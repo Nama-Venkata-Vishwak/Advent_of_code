{
  "nbformat": 4,
  "nbformat_minor": 0,
  "metadata": {
    "colab": {
      "provenance": [],
      "authorship_tag": "ABX9TyOZg/R57wCu+gy7IO6noHf5",
      "include_colab_link": true
    },
    "kernelspec": {
      "name": "python3",
      "display_name": "Python 3"
    },
    "language_info": {
      "name": "python"
    }
  },
  "cells": [
    {
      "cell_type": "markdown",
      "metadata": {
        "id": "view-in-github",
        "colab_type": "text"
      },
      "source": [
        "<a href=\"https://colab.research.google.com/github/Nama-Venkata-Vishwak/Advent_of_code/blob/main/Advent_of_Code.ipynb\" target=\"_parent\"><img src=\"https://colab.research.google.com/assets/colab-badge.svg\" alt=\"Open In Colab\"/></a>"
      ]
    },
    {
      "cell_type": "markdown",
      "source": [
        "#Getting Data From Advent_of_Code\n",
        "\n",
        "\n",
        "---\n",
        "\n",
        "\n",
        "\n"
      ],
      "metadata": {
        "id": "f23wr_U6z7gO"
      }
    },
    {
      "cell_type": "code",
      "source": [
        "import requests\n",
        "session_id=\"53616c7465645f5fc9b2c2a3ac7e51d79a7e93848102302526ecc97df1c276cfad384c010b1b5182a1ba9aad622c0bdd89b059ec8e205d139a09adee778edfdc\"\n",
        "def get_advent_of_code_input(year,day,session_id):\n",
        "  url=f\"https://adventofcode.com/{year}/day/{day}/input\"\n",
        "  headers = {\"Cookie\":f\"session={session_id}\"}\n",
        "  response = requests.get(url,headers=headers)\n",
        "  if(response.status_code==200):\n",
        "    return response.text.strip()\n",
        "  else:\n",
        "    print(f\"Failed to fetch data. {response.status_code}\")\n",
        "    return None"
      ],
      "metadata": {
        "id": "SBaXJZa_xyox"
      },
      "execution_count": 1,
      "outputs": []
    },
    {
      "cell_type": "markdown",
      "source": [
        "#2015\n"
      ],
      "metadata": {
        "id": "Lqh1Es3RR3-n"
      }
    },
    {
      "cell_type": "markdown",
      "source": [
        "##Day 1"
      ],
      "metadata": {
        "id": "g58-qbv7R8ze"
      }
    },
    {
      "cell_type": "code",
      "source": [
        "rawinput=get_advent_of_code_input(2015,1,session_id)"
      ],
      "metadata": {
        "id": "OT686VeNSCEV"
      },
      "execution_count": 2,
      "outputs": []
    },
    {
      "cell_type": "markdown",
      "source": [
        "###Part 1"
      ],
      "metadata": {
        "id": "MyS031yvR-sF"
      }
    },
    {
      "cell_type": "code",
      "source": [
        "print(rawinput.count('(')-rawinput.count(')'))\n",
        "print(rawinput.count('('))\n",
        "-rawinput.count(')')"
      ],
      "metadata": {
        "colab": {
          "base_uri": "https://localhost:8080/"
        },
        "id": "3Xo2_nF7R7QO",
        "outputId": "be24bbd0-98d1-49b4-98f2-62bfa1de87dd"
      },
      "execution_count": 3,
      "outputs": [
        {
          "output_type": "stream",
          "name": "stdout",
          "text": [
            "74\n",
            "3537\n"
          ]
        },
        {
          "output_type": "execute_result",
          "data": {
            "text/plain": [
              "-3463"
            ]
          },
          "metadata": {},
          "execution_count": 3
        }
      ]
    },
    {
      "cell_type": "markdown",
      "source": [
        "###Part 2"
      ],
      "metadata": {
        "id": "FiiiMVePUeIG"
      }
    },
    {
      "cell_type": "code",
      "source": [
        "floor = 0\n",
        "for i in range(0,len(rawinput)):\n",
        "  if(floor==-1):\n",
        "    print(i)\n",
        "    break\n",
        "  if(rawinput[i]=='('):\n",
        "    floor+=1\n",
        "  else:\n",
        "    floor-=1"
      ],
      "metadata": {
        "colab": {
          "base_uri": "https://localhost:8080/"
        },
        "id": "jC_HP61RTaxg",
        "outputId": "ab829b38-2e0d-4884-bb3e-a63fc7d51b83"
      },
      "execution_count": 4,
      "outputs": [
        {
          "output_type": "stream",
          "name": "stdout",
          "text": [
            "1795\n"
          ]
        }
      ]
    },
    {
      "cell_type": "markdown",
      "source": [
        "#2021\n",
        "\n",
        "\n",
        "---\n",
        "\n"
      ],
      "metadata": {
        "id": "KVjhRyrE0dLT"
      }
    },
    {
      "cell_type": "markdown",
      "source": [
        "##DAY1"
      ],
      "metadata": {
        "id": "EGrtVCAZ5WHw"
      }
    },
    {
      "cell_type": "code",
      "source": [
        "rawinput=get_advent_of_code_input(2021,1,session_id)"
      ],
      "metadata": {
        "id": "c8JMvEiS0mPd"
      },
      "execution_count": 5,
      "outputs": []
    },
    {
      "cell_type": "code",
      "source": [
        "Input=rawinput.split('\\n')\n",
        "Input=list(map(int,Input))"
      ],
      "metadata": {
        "id": "PYCJ-hFF0vKB"
      },
      "execution_count": 6,
      "outputs": []
    },
    {
      "cell_type": "code",
      "source": [
        "def greater(a,b):\n",
        "  if(a>b):\n",
        "    return 1\n",
        "  return 0"
      ],
      "metadata": {
        "id": "NP7osU071Snz"
      },
      "execution_count": 7,
      "outputs": []
    },
    {
      "cell_type": "markdown",
      "source": [
        "###Part1"
      ],
      "metadata": {
        "id": "c0fCQ54_5ipe"
      }
    },
    {
      "cell_type": "code",
      "source": [
        "#Question1\n",
        "prev=Input[0]\n",
        "count=0\n",
        "for i in range(1,len(Input)):\n",
        "  next=Input[i]\n",
        "  count+=greater(next,prev)\n",
        "  prev=next\n",
        "print(count)"
      ],
      "metadata": {
        "id": "ry3SFT4t47Zc",
        "outputId": "d4943835-5c37-4734-fb80-7e5e1ffa74c4",
        "colab": {
          "base_uri": "https://localhost:8080/"
        }
      },
      "execution_count": 8,
      "outputs": [
        {
          "output_type": "stream",
          "name": "stdout",
          "text": [
            "1215\n"
          ]
        }
      ]
    },
    {
      "cell_type": "markdown",
      "source": [
        "###Part2"
      ],
      "metadata": {
        "id": "WLkn8-Rk5nJM"
      }
    },
    {
      "cell_type": "code",
      "source": [
        "#Question2\n",
        "prev=sum(Input[0:3])\n",
        "count=0\n",
        "for i in range(1,len(Input)-2):\n",
        "  next=sum(Input[i:i+3])\n",
        "  count+=greater(next,prev)\n",
        "  prev=next\n",
        "print(count)"
      ],
      "metadata": {
        "colab": {
          "base_uri": "https://localhost:8080/"
        },
        "id": "gUkSnflT1g_v",
        "outputId": "98dcc4af-9441-4362-9fd5-1da12eaabf44"
      },
      "execution_count": 9,
      "outputs": [
        {
          "output_type": "stream",
          "name": "stdout",
          "text": [
            "1150\n"
          ]
        }
      ]
    },
    {
      "cell_type": "markdown",
      "source": [
        "##DAY2"
      ],
      "metadata": {
        "id": "54zHRixDjYKL"
      }
    },
    {
      "cell_type": "code",
      "source": [
        "rawinput=get_advent_of_code_input(2021,2,session_id)"
      ],
      "metadata": {
        "id": "VN39si5kkLQ0"
      },
      "execution_count": 10,
      "outputs": []
    },
    {
      "cell_type": "markdown",
      "source": [
        "###Part1"
      ],
      "metadata": {
        "id": "VNpTY2MYvrSv"
      }
    },
    {
      "cell_type": "code",
      "source": [
        "Input=rawinput.split('\\n')\n",
        "forward = 0\n",
        "depth = 0\n",
        "for i in range(0,len(Input)):\n",
        "  temp=Input[i].split(\" \")\n",
        "  match(temp[0]):\n",
        "    case 'forward':\n",
        "      forward+=int(temp[1])\n",
        "    case 'down':\n",
        "      depth+=int(temp[1])\n",
        "    case 'up':\n",
        "      depth-=int(temp[1])\n",
        "print(depth)\n",
        "print(forward)\n",
        "print(depth*forward)"
      ],
      "metadata": {
        "colab": {
          "base_uri": "https://localhost:8080/"
        },
        "id": "BrbL8lwnjbXa",
        "outputId": "62c4fcea-43d1-4864-bd61-36ac3d6ac459"
      },
      "execution_count": 11,
      "outputs": [
        {
          "output_type": "stream",
          "name": "stdout",
          "text": [
            "913\n",
            "1988\n",
            "1815044\n"
          ]
        }
      ]
    },
    {
      "cell_type": "markdown",
      "source": [
        "###Part2"
      ],
      "metadata": {
        "id": "StWs36wUvoqI"
      }
    },
    {
      "cell_type": "code",
      "source": [
        "Input=rawinput.split('\\n')\n",
        "# Input=\"\"\"forward 5\n",
        "# down 5\n",
        "# forward 8\n",
        "# up 3\n",
        "# down 8\n",
        "# forward 2\"\"\".split('\\n')\n",
        "forward = 0\n",
        "depth = 0\n",
        "aim=0\n",
        "for i in range(0,len(Input)):\n",
        "  temp=Input[i].split(\" \")\n",
        "  match(temp[0]):\n",
        "    case 'forward':\n",
        "      forward+=int(temp[1])\n",
        "      depth+=int(temp[1])*aim\n",
        "    case 'down':\n",
        "      #depth+=int(temp[1])\n",
        "      aim+=int(temp[1])\n",
        "    case 'up':\n",
        "      #depth-=int(temp[1])\n",
        "      aim-=int(temp[1])\n",
        "print(depth)\n",
        "print(forward)\n",
        "print(depth*forward)"
      ],
      "metadata": {
        "colab": {
          "base_uri": "https://localhost:8080/"
        },
        "id": "7lR9X2JetFHn",
        "outputId": "fcc0dbf9-c72b-4bd5-d232-f2748ba7f9b0"
      },
      "execution_count": 12,
      "outputs": [
        {
          "output_type": "stream",
          "name": "stdout",
          "text": [
            "874891\n",
            "1988\n",
            "1739283308\n"
          ]
        }
      ]
    },
    {
      "cell_type": "markdown",
      "source": [
        "##DAY3"
      ],
      "metadata": {
        "id": "B8WWefceymz-"
      }
    },
    {
      "cell_type": "code",
      "source": [
        "rawinput=get_advent_of_code_input(2021,3,session_id)"
      ],
      "metadata": {
        "id": "KvrqD18Wyrai"
      },
      "execution_count": 13,
      "outputs": []
    },
    {
      "cell_type": "markdown",
      "source": [
        "###Part1"
      ],
      "metadata": {
        "id": "ZuuQVgqPyqFv"
      }
    },
    {
      "cell_type": "code",
      "source": [
        "input=rawinput.split(\"\\n\")\n",
        "gamma = \"\"\n",
        "epsilon = \"\"\n",
        "for i in range(0,12):\n",
        "  gamma+=max(['0','1'],key=[x[i] for x in input].count)\n",
        "  epsilon+=min(['0','1'],key=[x[i] for x in input].count)\n",
        "print(gamma+\" \"+epsilon)\n",
        "int(gamma,2)*int(epsilon,2)"
      ],
      "metadata": {
        "colab": {
          "base_uri": "https://localhost:8080/"
        },
        "id": "QvbgYsmtyzGh",
        "outputId": "7d7f33f3-6b03-46d6-a939-6a887e264aa0"
      },
      "execution_count": 14,
      "outputs": [
        {
          "output_type": "stream",
          "name": "stdout",
          "text": [
            "001110101111 110001010000\n"
          ]
        },
        {
          "output_type": "execute_result",
          "data": {
            "text/plain": [
              "2972336"
            ]
          },
          "metadata": {},
          "execution_count": 14
        }
      ]
    },
    {
      "cell_type": "markdown",
      "source": [
        "###Part2"
      ],
      "metadata": {
        "id": "ezr6UoymGQIR"
      }
    },
    {
      "cell_type": "code",
      "source": [
        "input=rawinput.split(\"\\n\")\n",
        "# input=\"\"\"00100\n",
        "# 11110\n",
        "# 10110\n",
        "# 10111\n",
        "# 10101\n",
        "# 01111\n",
        "# 00111\n",
        "# 11100\n",
        "# 10000\n",
        "# 11001\n",
        "# 00010\n",
        "# 01010\"\"\".split(\"\\n\")\n",
        "gamma = \"\"\n",
        "epsilon = \"\"\n",
        "for i in range(0,12):\n",
        "  if(len([x for x in input if x.startswith(gamma)])==1):\n",
        "    gamma = [x for x in input if x.startswith(gamma)][0]\n",
        "    break\n",
        "  gamma+=max(['1','0'],key=[x[i] for x in input if x.startswith(gamma)].count)\n",
        "for i in range(0,12):\n",
        "  if(len([x for x in input if x.startswith(epsilon)])==1):\n",
        "    epsilon = [x for x in input if x.startswith(epsilon)][0]\n",
        "    break\n",
        "  epsilon+=min(['0','1'],key=[x[i] for x in input if x.startswith(epsilon)].count)\n",
        "\n",
        "print(gamma+\" \"+epsilon)\n",
        "int(gamma,2)*int(epsilon,2)"
      ],
      "metadata": {
        "id": "QLyRvd-KAXTe",
        "outputId": "8417e020-92fd-4e7b-9595-4ce5493d523c",
        "colab": {
          "base_uri": "https://localhost:8080/"
        }
      },
      "execution_count": 15,
      "outputs": [
        {
          "output_type": "stream",
          "name": "stdout",
          "text": [
            "001110100011 111000100010\n"
          ]
        },
        {
          "output_type": "execute_result",
          "data": {
            "text/plain": [
              "3368358"
            ]
          },
          "metadata": {},
          "execution_count": 15
        }
      ]
    },
    {
      "cell_type": "markdown",
      "source": [
        "#2022"
      ],
      "metadata": {
        "id": "W8qyVsuW4Sgu"
      }
    },
    {
      "cell_type": "markdown",
      "source": [
        "##DAY1"
      ],
      "metadata": {
        "id": "AG49Hbm04WBH"
      }
    },
    {
      "cell_type": "code",
      "source": [
        "rawinput=get_advent_of_code_input(2022,1,session_id)"
      ],
      "metadata": {
        "id": "T6uZE5bz4VoD"
      },
      "execution_count": 16,
      "outputs": []
    },
    {
      "cell_type": "markdown",
      "source": [
        "###Part1"
      ],
      "metadata": {
        "id": "kcCHrrOV4YjM"
      }
    },
    {
      "cell_type": "code",
      "source": [
        "input = rawinput.split('\\n')\n",
        "elves = []\n",
        "temp = 0\n",
        "for i in range(0,len(input)):\n",
        "  if(input[i]==''):\n",
        "    elves.append(temp)\n",
        "    temp=0\n",
        "  else:\n",
        "    temp+=int(input[i])\n",
        "elves.append(temp)\n",
        "elves.sort()\n",
        "elves[-1]"
      ],
      "metadata": {
        "id": "bWfj7HFs4UmS",
        "colab": {
          "base_uri": "https://localhost:8080/"
        },
        "outputId": "0861f5f6-73cb-43be-8119-33458aa4172a"
      },
      "execution_count": 17,
      "outputs": [
        {
          "output_type": "execute_result",
          "data": {
            "text/plain": [
              "68442"
            ]
          },
          "metadata": {},
          "execution_count": 17
        }
      ]
    },
    {
      "cell_type": "markdown",
      "source": [
        "###Part2"
      ],
      "metadata": {
        "id": "PmYdb7Tm4cbi"
      }
    },
    {
      "cell_type": "code",
      "source": [
        "sum(elves[-3:])"
      ],
      "metadata": {
        "id": "Lfx7ppIF4jTk",
        "colab": {
          "base_uri": "https://localhost:8080/"
        },
        "outputId": "2c382461-d412-4068-edb6-b6e6f4f41b0c"
      },
      "execution_count": 18,
      "outputs": [
        {
          "output_type": "execute_result",
          "data": {
            "text/plain": [
              "204837"
            ]
          },
          "metadata": {},
          "execution_count": 18
        }
      ]
    },
    {
      "cell_type": "markdown",
      "source": [
        "##DAY2"
      ],
      "metadata": {
        "id": "iVLbONGkUP6Q"
      }
    },
    {
      "cell_type": "code",
      "source": [
        "rawinput=get_advent_of_code_input(2022,2,session_id)"
      ],
      "metadata": {
        "id": "ZQXbUty0UTO-"
      },
      "execution_count": 2,
      "outputs": []
    },
    {
      "cell_type": "markdown",
      "source": [
        "###Part1"
      ],
      "metadata": {
        "id": "xGsZmxJCUTmN"
      }
    },
    {
      "cell_type": "code",
      "source": [
        "def points(a):\n",
        "  opp={'A':1,'B':2,'C':3}\n",
        "  player={'X':1,'Y':2,'Z':3}\n",
        "  if(a in ['A X','B Y','C Z']):\n",
        "    return 3 + opp[a[0]]\n",
        "  elif(a in ['A Y', 'B Z', 'C X']):\n",
        "    return 6 + player[a[-1]]\n",
        "  return player[a[-1]]"
      ],
      "metadata": {
        "id": "K1o86vgGVDyK"
      },
      "execution_count": 3,
      "outputs": []
    },
    {
      "cell_type": "code",
      "source": [
        "#1 for Rock, 2 for Paper, and 3 for Scissors\n",
        "#A for Rock, B for Paper, and C for Scissors\n",
        "#X for Rock, Y for Paper, and Z for Scissors.\n",
        "#0 if you lost, 3 if the round was a draw, and 6 if you won\n",
        "input=rawinput.split('\\n')\n",
        "# input = \"\"\"A Y\n",
        "# B X\n",
        "# C Z\"\"\".split('\\n')\n",
        "sum(list(map(points,input)))"
      ],
      "metadata": {
        "id": "a17rT4oiUW5q",
        "outputId": "0608c99e-080d-4620-db35-ad1db5096416",
        "colab": {
          "base_uri": "https://localhost:8080/"
        }
      },
      "execution_count": 4,
      "outputs": [
        {
          "output_type": "execute_result",
          "data": {
            "text/plain": [
              "12458"
            ]
          },
          "metadata": {},
          "execution_count": 4
        }
      ]
    },
    {
      "cell_type": "markdown",
      "source": [
        "###Part2"
      ],
      "metadata": {
        "id": "bDjGdy7wX5KZ"
      }
    },
    {
      "cell_type": "code",
      "source": [
        "# X means you need to lose, Y means you need to end the round in a draw, and Z means you need to win.\n",
        "def stat(a):\n",
        "  val={'A':1,'B':2,'C':3}\n",
        "  win={'A':2,'B':3,'C':1}\n",
        "  loss={'A':3,'B':1,'C':2}\n",
        "  # print(a[0])\n",
        "  if(a[-1] == 'X'):\n",
        "    return loss[a[0]]\n",
        "  if(a[-1]=='Y'):\n",
        "    return 3+val[a[0]]\n",
        "  return 6+win[a[0]]"
      ],
      "metadata": {
        "id": "_8VP6DVsX8BN"
      },
      "execution_count": 22,
      "outputs": []
    },
    {
      "cell_type": "code",
      "source": [
        "input=rawinput.split('\\n')\n",
        "# input = \"\"\"A Y\n",
        "# B X\n",
        "# C Z\"\"\".split('\\n')\n",
        "sum(list(map(stat,input)))"
      ],
      "metadata": {
        "id": "eWJHf-sRY5Bn",
        "outputId": "c42acfdb-af63-4183-e135-88e026515bdf",
        "colab": {
          "base_uri": "https://localhost:8080/"
        }
      },
      "execution_count": 23,
      "outputs": [
        {
          "output_type": "execute_result",
          "data": {
            "text/plain": [
              "12683"
            ]
          },
          "metadata": {},
          "execution_count": 23
        }
      ]
    },
    {
      "cell_type": "markdown",
      "source": [
        "##DAY3"
      ],
      "metadata": {
        "id": "IglNFB4g4U-k"
      }
    },
    {
      "cell_type": "code",
      "source": [
        "rawinput=get_advent_of_code_input(2022,3,session_id)"
      ],
      "metadata": {
        "id": "7jqMbcCdOBA6"
      },
      "execution_count": 22,
      "outputs": []
    },
    {
      "cell_type": "markdown",
      "source": [
        "###Part1"
      ],
      "metadata": {
        "id": "G4L7igtm4ln8"
      }
    },
    {
      "cell_type": "code",
      "source": [
        "def half(a):\n",
        "  a=set(a[:int(len(a)/2)]).intersection(set(a[int(len(a)/2):])).pop()\n",
        "  if('A'<=a and 'Z'>=a):\n",
        "    return ord(a)-38\n",
        "  else:\n",
        "    return ord(a)-96"
      ],
      "metadata": {
        "id": "AVlwitI-Oue-"
      },
      "execution_count": 23,
      "outputs": []
    },
    {
      "cell_type": "code",
      "source": [
        "input = rawinput.split('\\n')\n",
        "# input=\"\"\"vJrwpWtwJgWrhcsFMMfFFhFp\n",
        "# jqHRNqRjqzjGDLGLrsFMfFZSrLrFZsSL\n",
        "# PmmdzqPrVvPwwTWBwg\n",
        "# wMqvLMZHhHMvwLHjbvcjnnSBnvTQFn\n",
        "# ttgJtRGJQctTZtZT\n",
        "# CrZsJsPPZsGzwwsLwLmpwMDw\"\"\".split('\\n')\n",
        "input = list(map(half,input))\n",
        "sum(input)"
      ],
      "metadata": {
        "id": "g4Iwd_bk4ntV",
        "colab": {
          "base_uri": "https://localhost:8080/"
        },
        "outputId": "75a7a95a-f604-4291-8899-1746ac0616b7"
      },
      "execution_count": 24,
      "outputs": [
        {
          "output_type": "execute_result",
          "data": {
            "text/plain": [
              "7872"
            ]
          },
          "metadata": {},
          "execution_count": 24
        }
      ]
    },
    {
      "cell_type": "markdown",
      "source": [
        "###Part2"
      ],
      "metadata": {
        "id": "XHcbK7nw4oBn"
      }
    },
    {
      "cell_type": "code",
      "source": [
        "def badge(a,b,c):\n",
        "  a=set(a).intersection(b).intersection(c).pop()\n",
        "  # print(a)\n",
        "  if('A'<=a and 'Z'>=a):\n",
        "    return ord(a)-38\n",
        "  else:\n",
        "    return ord(a)-96"
      ],
      "metadata": {
        "id": "RPxfAxl24qw7"
      },
      "execution_count": 25,
      "outputs": []
    },
    {
      "cell_type": "code",
      "source": [
        "input=rawinput.split('\\n')\n",
        "summ=0\n",
        "for i in range(0,len(input),3):\n",
        "  summ+=badge(input[i],input[i+1],input[i+2])\n",
        "summ"
      ],
      "metadata": {
        "colab": {
          "base_uri": "https://localhost:8080/"
        },
        "id": "a24-X0oCPLvX",
        "outputId": "871049ac-1939-4431-b70c-860dc28019e5"
      },
      "execution_count": 26,
      "outputs": [
        {
          "output_type": "execute_result",
          "data": {
            "text/plain": [
              "2497"
            ]
          },
          "metadata": {},
          "execution_count": 26
        }
      ]
    },
    {
      "cell_type": "markdown",
      "source": [
        "#2023\n",
        "\n"
      ],
      "metadata": {
        "id": "-TMAoXvWyNeG"
      }
    },
    {
      "cell_type": "markdown",
      "source": [
        "##Day1"
      ],
      "metadata": {
        "id": "J83BrGcnyQ7r"
      }
    },
    {
      "cell_type": "code",
      "source": [
        "rawinput=get_advent_of_code_input(2023,1,session_id)\n",
        "Input=rawinput.split('\\n')"
      ],
      "metadata": {
        "id": "khdJM5WeyuAP"
      },
      "execution_count": 27,
      "outputs": []
    },
    {
      "cell_type": "code",
      "source": [
        "def findFirstInt(a):\n",
        "  str = list(a)\n",
        "  for c in a:\n",
        "    if(c.isdigit()):\n",
        "      return c\n",
        "def sumEndInts(a):\n",
        "  return findFirstInt(a)+findFirstInt(a[::-1])"
      ],
      "metadata": {
        "id": "tFSoX63Syyod"
      },
      "execution_count": 28,
      "outputs": []
    },
    {
      "cell_type": "markdown",
      "source": [
        "###Part1"
      ],
      "metadata": {
        "id": "bmwjN_GsyTZG"
      }
    },
    {
      "cell_type": "code",
      "source": [
        "summ=0\n",
        "for i in range(len(Input)):\n",
        "  summ+=int(sumEndInts(Input[i]))\n",
        "summ"
      ],
      "metadata": {
        "colab": {
          "base_uri": "https://localhost:8080/"
        },
        "id": "CAdY_jAxyVID",
        "outputId": "75f86a5f-c19d-4822-9338-34a325ceaf5e"
      },
      "execution_count": 29,
      "outputs": [
        {
          "output_type": "execute_result",
          "data": {
            "text/plain": [
              "55834"
            ]
          },
          "metadata": {},
          "execution_count": 29
        }
      ]
    },
    {
      "cell_type": "markdown",
      "source": [
        "###Part2"
      ],
      "metadata": {
        "id": "fJGW5mw6yVoW"
      }
    },
    {
      "cell_type": "code",
      "source": [
        "def replace_number_spellings(a):\n",
        "  number_spell = {'one':'one1one','two' : 'two2two','three' : 'three3three' ,'four' : 'four4four' ,'five':'five5five' ,'six':'six6six' , 'seven':'seven7seven' ,'eight':'eight8eight' ,'nine':'nine9nine' }\n",
        "  for word, number in number_spell.items():\n",
        "    a = a.replace(word,number)\n",
        "  return a"
      ],
      "metadata": {
        "id": "8FB_UAbO9F-V"
      },
      "execution_count": 30,
      "outputs": []
    },
    {
      "cell_type": "code",
      "source": [
        "test = \"\"\"two1nine\n",
        "eightwothree\n",
        "abcone2threexyz\n",
        "xtwone3four\n",
        "4nineeightseven2\n",
        "zoneight234\n",
        "7pqrstsixteen\"\"\".split(\"\\n\")\n",
        "summ=0\n",
        "for i in range(len(test)):\n",
        "  summ+=int(sumEndInts(replace_number_spellings(test[i])))\n",
        "summ\n"
      ],
      "metadata": {
        "colab": {
          "base_uri": "https://localhost:8080/"
        },
        "id": "qm7RjvIw_Cm0",
        "outputId": "f515bcc7-4f5b-45cf-cb11-64fcfb15fc69"
      },
      "execution_count": 31,
      "outputs": [
        {
          "output_type": "execute_result",
          "data": {
            "text/plain": [
              "281"
            ]
          },
          "metadata": {},
          "execution_count": 31
        }
      ]
    },
    {
      "cell_type": "code",
      "source": [
        "summ=0\n",
        "for i in range(len(Input)):\n",
        "  summ+=int(sumEndInts(replace_number_spellings(Input[i])))\n",
        "summ"
      ],
      "metadata": {
        "colab": {
          "base_uri": "https://localhost:8080/"
        },
        "id": "nWciDXkfyaD0",
        "outputId": "ce9d1d59-3928-4fc3-aed5-51ccd07e5756"
      },
      "execution_count": 32,
      "outputs": [
        {
          "output_type": "execute_result",
          "data": {
            "text/plain": [
              "53221"
            ]
          },
          "metadata": {},
          "execution_count": 32
        }
      ]
    },
    {
      "cell_type": "markdown",
      "source": [
        "##DAY2"
      ],
      "metadata": {
        "id": "KNKPv0_csw2S"
      }
    },
    {
      "cell_type": "code",
      "source": [
        "rawinput=get_advent_of_code_input(2023,2,session_id)"
      ],
      "metadata": {
        "id": "dIcs47Oqsz8L"
      },
      "execution_count": 33,
      "outputs": []
    },
    {
      "cell_type": "markdown",
      "source": [
        "###Part1"
      ],
      "metadata": {
        "id": "mc21R-SBszFg"
      }
    },
    {
      "cell_type": "code",
      "source": [
        "#Game 1: 1 blue, 2 green, 3 red; 7 red, 8 green; 1 green, 2 red, 1 blue; 2 green, 3 red, 1 blue; 8 green, 1 blue\n",
        "input = rawinput.split(\"\\n\")\n",
        "# input = \"\"\"Game 1: 3 blue, 4 red; 1 red, 2 green, 6 blue; 2 green\n",
        "# Game 2: 1 blue, 2 green; 3 green, 4 blue, 1 red; 1 green, 1 blue\n",
        "# Game 3: 8 green, 6 blue, 20 red; 5 blue, 4 red, 13 green; 5 green, 1 red\n",
        "# Game 4: 1 green, 3 red, 6 blue; 3 green, 6 red; 3 green, 15 blue, 14 red\n",
        "# Game 5: 6 red, 1 blue, 3 green; 2 blue, 1 red, 2 green\"\"\".split(\"\\n\")\n",
        "a=[]\n",
        "counts=[]\n",
        "ans=5050\n",
        "for i in range(0,len(input)):\n",
        "  a.append(list(input[i][input[i].find(':')+1:].split(';')))\n",
        "for i in range(0,len(a)):\n",
        "  d={'red':0, 'blue':0, 'green':0} #dicteonary\n",
        "  maxx={'red':12, 'blue':14, 'green':13}\n",
        "  f=1\n",
        "  for j in range(0,len(a[i])):\n",
        "    if(f==0):\n",
        "      break\n",
        "    a[i][j]=a[i][j].split(',')\n",
        "    for k in range(0,len(a[i][j])):\n",
        "        count,color= a[i][j][k].split(\" \")[1:]\n",
        "        # print(count+\"_\"+color)\n",
        "        count=int(count)\n",
        "        if(count<=maxx[color]):\n",
        "          d[color]=max([d[color],count])\n",
        "        else:\n",
        "          ans-=(i+1)\n",
        "          # print(i+1)\n",
        "          f=0\n",
        "          break\n",
        "  # print(\"\")\n",
        "print(ans)"
      ],
      "metadata": {
        "id": "ctsbXvhNswHx",
        "outputId": "792d97e6-5771-489b-f289-d2afba843651",
        "colab": {
          "base_uri": "https://localhost:8080/"
        }
      },
      "execution_count": 34,
      "outputs": [
        {
          "output_type": "stream",
          "name": "stdout",
          "text": [
            "2505\n"
          ]
        }
      ]
    },
    {
      "cell_type": "markdown",
      "source": [
        "###Part2"
      ],
      "metadata": {
        "id": "beAng6ELs2Ws"
      }
    },
    {
      "cell_type": "code",
      "source": [
        "#Game 1: 1 blue, 2 green, 3 red; 7 red, 8 green; 1 green, 2 red, 1 blue; 2 green, 3 red, 1 blue; 8 green, 1 blue\n",
        "input = rawinput.split(\"\\n\")\n",
        "# input = \"\"\"Game 1: 3 blue, 4 red; 1 red, 2 green, 6 blue; 2 green\n",
        "# Game 2: 1 blue, 2 green; 3 green, 4 blue, 1 red; 1 green, 1 blue\n",
        "# Game 3: 8 green, 6 blue, 20 red; 5 blue, 4 red, 13 green; 5 green, 1 red\n",
        "# Game 4: 1 green, 3 red, 6 blue; 3 green, 6 red; 3 green, 15 blue, 14 red\n",
        "# Game 5: 6 red, 1 blue, 3 green; 2 blue, 1 red, 2 green\"\"\".split(\"\\n\")\n",
        "a=[]\n",
        "counts=[]\n",
        "ans=5050\n",
        "summ=0\n",
        "for i in range(0,len(input)):\n",
        "  a.append(list(input[i][input[i].find(':')+1:].split(';')))\n",
        "for i in range(0,len(a)):\n",
        "  d={'red':0, 'blue':0, 'green':0} #dicteonary\n",
        "  maxx={'red':12, 'blue':14, 'green':13}\n",
        "  f=1\n",
        "  for j in range(0,len(a[i])):\n",
        "    a[i][j]=a[i][j].split(',')\n",
        "    for k in range(0,len(a[i][j])):\n",
        "        count,color= a[i][j][k].split(\" \")[1:]\n",
        "        # print(count+\"_\"+color)\n",
        "        count=int(count)\n",
        "        d[color]=max([d[color],count])\n",
        "  summ+=d['red']*d['blue']*d['green']\n",
        "print(summ)"
      ],
      "metadata": {
        "id": "Q1KTPU8Ms5Z8",
        "outputId": "20c21482-6741-4bac-fc6b-6457ccee2e7d",
        "colab": {
          "base_uri": "https://localhost:8080/"
        }
      },
      "execution_count": 35,
      "outputs": [
        {
          "output_type": "stream",
          "name": "stdout",
          "text": [
            "70265\n"
          ]
        }
      ]
    }
  ]
}