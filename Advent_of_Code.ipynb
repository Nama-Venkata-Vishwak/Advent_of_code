{
  "nbformat": 4,
  "nbformat_minor": 0,
  "metadata": {
    "colab": {
      "provenance": [],
      "authorship_tag": "ABX9TyN97DTQKGtKt/C5nK9ErD07",
      "include_colab_link": true
    },
    "kernelspec": {
      "name": "python3",
      "display_name": "Python 3"
    },
    "language_info": {
      "name": "python"
    }
  },
  "cells": [
    {
      "cell_type": "markdown",
      "metadata": {
        "id": "view-in-github",
        "colab_type": "text"
      },
      "source": [
        "<a href=\"https://colab.research.google.com/github/Nama-Venkata-Vishwak/Advent_of_code/blob/main/Advent_of_Code.ipynb\" target=\"_parent\"><img src=\"https://colab.research.google.com/assets/colab-badge.svg\" alt=\"Open In Colab\"/></a>"
      ]
    },
    {
      "cell_type": "markdown",
      "source": [
        "#Getting Data From Advent_of_Code\n",
        "\n",
        "\n",
        "---\n",
        "\n",
        "\n",
        "\n"
      ],
      "metadata": {
        "id": "f23wr_U6z7gO"
      }
    },
    {
      "cell_type": "code",
      "source": [
        "import requests\n",
        "session_id=\"53616c7465645f5fc9b2c2a3ac7e51d79a7e93848102302526ecc97df1c276cfad384c010b1b5182a1ba9aad622c0bdd89b059ec8e205d139a09adee778edfdc\"\n",
        "def get_advent_of_code_input(year,day,session_id):\n",
        "  url=f\"https://adventofcode.com/{year}/day/{day}/input\"\n",
        "  headers = {\"Cookie\":f\"session={session_id}\"}\n",
        "  response = requests.get(url,headers=headers)\n",
        "  if(response.status_code==200):\n",
        "    return response.text.strip()\n",
        "  else:\n",
        "    print(f\"Failed to fetch data. {response.status_code}\")\n",
        "    return None\n",
        "# import requests\n",
        "# session_id=\"53616c7465645f5fc9b2c2a3ac7e51d79a7e93848102302526ecc97df1c276cfad384c010b1b5182a1ba9aad622c0bdd89b059ec8e205d139a09adee778edfdc\"\n",
        "def get_advent_of_code_input2(year,day,session_id):\n",
        "  url=f\"https://adventofcode.com/{year}/day/{day}/input\"\n",
        "  headers = {\"Cookie\":f\"session={session_id}\"}\n",
        "  response = requests.get(url,headers=headers)\n",
        "  if(response.status_code==200):\n",
        "    return response.text\n",
        "  else:\n",
        "    print(f\"Failed to fetch data. {response.status_code}\")\n",
        "    return None\n",
        "def load(year,day):\n",
        "  return get_advent_of_code_input(year,day,session_id)\n",
        "def load2(year,day):\n",
        "  return get_advent_of_code_input2(year,day,session_id)"
      ],
      "metadata": {
        "id": "SBaXJZa_xyox"
      },
      "execution_count": 1,
      "outputs": []
    },
    {
      "cell_type": "markdown",
      "source": [
        "#2023\n",
        "\n"
      ],
      "metadata": {
        "id": "-TMAoXvWyNeG"
      }
    },
    {
      "cell_type": "markdown",
      "source": [
        "##DAY9"
      ],
      "metadata": {
        "id": "9uo9FMPy2j5q"
      }
    },
    {
      "cell_type": "code",
      "source": [
        "raw_input=load(2023,9)"
      ],
      "metadata": {
        "id": "Hr15ITXO2mTP"
      },
      "execution_count": 3,
      "outputs": []
    },
    {
      "cell_type": "code",
      "source": [
        "def down(a):\n",
        "  b=[]\n",
        "  for i in range(len(a)-1):\n",
        "    b.append(a[i+1]-a[i])\n",
        "  # print(b)\n",
        "  if(len(set(b))==1):\n",
        "    return b.pop()\n",
        "  else:\n",
        "    # b.append(b[-1]+down(b))\n",
        "    return b[-1]+down(b)\n",
        "# print(raw_input)\n",
        "input='''0 3 6 9 12 15\n",
        "1 3 6 10 15 21\n",
        "10 13 16 21 30 45'''.split('\\n')\n",
        "for i in range(len(input)):\n",
        "  input[i]=list(map(int,input[i].split(\" \")))\n",
        "down(input[2])"
      ],
      "metadata": {
        "id": "Iwg7UgK8-mO3",
        "outputId": "9d2bf532-f8ae-495e-c164-351099876373",
        "colab": {
          "base_uri": "https://localhost:8080/"
        }
      },
      "execution_count": 15,
      "outputs": [
        {
          "output_type": "execute_result",
          "data": {
            "text/plain": [
              "23"
            ]
          },
          "metadata": {},
          "execution_count": 15
        }
      ]
    },
    {
      "cell_type": "markdown",
      "source": [
        "###Part1"
      ],
      "metadata": {
        "id": "B8mORcOUBbbh"
      }
    },
    {
      "cell_type": "code",
      "source": [
        "# print(raw_input)\n",
        "input=''' '''.split('\\n')\n",
        "input=raw_input.split('\\n')\n",
        "summ=0\n",
        "for i in range(len(input)):\n",
        "  input[i]=list(map(int,input[i].split(\" \")))\n",
        "  summ+=input[i][-1]+down(input[i])\n",
        "  # for j in range(len(input[i])):\n",
        "print(summ)"
      ],
      "metadata": {
        "id": "7KdTuTmh2s2-",
        "outputId": "9bd43a82-37a5-4905-a1a3-e106f219e700",
        "colab": {
          "base_uri": "https://localhost:8080/"
        }
      },
      "execution_count": 16,
      "outputs": [
        {
          "output_type": "stream",
          "name": "stdout",
          "text": [
            "2038472161\n"
          ]
        }
      ]
    },
    {
      "cell_type": "markdown",
      "source": [
        "###Part2"
      ],
      "metadata": {
        "id": "OYho5rTjBUwd"
      }
    },
    {
      "cell_type": "code",
      "source": [
        "# print(raw_input)\n",
        "input=''' '''.split('\\n')\n",
        "input=raw_input.split('\\n')\n",
        "summ=0\n",
        "for i in range(len(input)):\n",
        "  input[i]=list(map(int,input[i].split(\" \")))\n",
        "  input[i]=input[i][::-1]\n",
        "  summ+=input[i][-1]+down(input[i])\n",
        "  # for j in range(len(input[i])):\n",
        "print(summ)"
      ],
      "metadata": {
        "id": "8sokUthjA01M",
        "outputId": "99adb9e1-9350-45e8-f9ca-e0b410ea2dbc",
        "colab": {
          "base_uri": "https://localhost:8080/"
        }
      },
      "execution_count": 17,
      "outputs": [
        {
          "output_type": "stream",
          "name": "stdout",
          "text": [
            "1091\n"
          ]
        }
      ]
    },
    {
      "cell_type": "markdown",
      "source": [],
      "metadata": {
        "id": "qELZyN8P2sUh"
      }
    },
    {
      "cell_type": "markdown",
      "source": [
        "##DAY8"
      ],
      "metadata": {
        "id": "rCX3i7GlpnI_"
      }
    },
    {
      "cell_type": "code",
      "source": [
        "import math\n",
        "raw_input=load(2023,8)"
      ],
      "metadata": {
        "id": "llaXDILXp9AF"
      },
      "execution_count": null,
      "outputs": []
    },
    {
      "cell_type": "markdown",
      "source": [
        "###Part1"
      ],
      "metadata": {
        "id": "PAmebMmYBVhd"
      }
    },
    {
      "cell_type": "code",
      "source": [
        "input=raw_input.split('\\n')\n",
        "# input=\"\"\"RL\n",
        "\n",
        "# AAA = (BBB, CCC)\n",
        "# BBB = (DDD, EEE)\n",
        "# CCC = (ZZZ, GGG)\n",
        "# DDD = (DDD, DDD)\n",
        "# EEE = (EEE, EEE)\n",
        "# GGG = (GGG, GGG)\n",
        "# ZZZ = (ZZZ, ZZZ)\"\"\".split('\\n')\n",
        "ins=list(input[0])\n",
        "for i in range(0,len(ins)):\n",
        "  if(ins[i]=='L'):\n",
        "    ins[i]=0\n",
        "  else:\n",
        "    ins[i]=1\n",
        "input=input[2:]\n",
        "d={}\n",
        "for i in range(0,len(input)):\n",
        "  input[i]=input[i].split(' = ')\n",
        "  input[i][1]=input[i][1][1:-1].split(', ')\n",
        "  d[input[i][0]]=input[i][1]\n",
        "p='AAA'\n",
        "f=1\n",
        "while(f):\n",
        " for i in range(len(ins)):\n",
        "  if(p=='ZZZ'):\n",
        "    print(f-1)\n",
        "    f=0\n",
        "    break\n",
        "  p=d[p][ins[i]]\n",
        "  f+=1"
      ],
      "metadata": {
        "id": "riBqa9HtywaC",
        "outputId": "b0ce8349-fdf6-48ba-9ed4-348708a67e48",
        "colab": {
          "base_uri": "https://localhost:8080/"
        }
      },
      "execution_count": null,
      "outputs": [
        {
          "output_type": "stream",
          "name": "stdout",
          "text": [
            "22411\n"
          ]
        }
      ]
    },
    {
      "cell_type": "markdown",
      "source": [
        "###Part2"
      ],
      "metadata": {
        "id": "H1OsvNKVBZ23"
      }
    },
    {
      "cell_type": "code",
      "source": [
        "input=raw_input.split('\\n')\n",
        "# input=\"\"\"LR\n",
        "\n",
        "# 11A = (11B, XXX)\n",
        "# 11B = (XXX, 11Z)\n",
        "# 11Z = (11B, XXX)\n",
        "# 22A = (22B, XXX)\n",
        "# 22B = (22C, 22C)\n",
        "# 22C = (22Z, 22Z)\n",
        "# 22Z = (22B, 22B)\n",
        "# XXX = (XXX, XXX)\"\"\".split('\\n')\n",
        "ins=list(input[0])\n",
        "for i in range(0,len(ins)):\n",
        "  if(ins[i]=='L'):\n",
        "    ins[i]=0\n",
        "  else:\n",
        "    ins[i]=1\n",
        "input=input[2:]\n",
        "d={}\n",
        "for i in range(0,len(input)):\n",
        "  input[i]=input[i].split(' = ')\n",
        "  input[i][1]=input[i][1][1:-1].split(', ')\n",
        "  d[input[i][0]]=input[i][1]\n",
        "p=[]\n",
        "for x in d.keys():\n",
        "  if(x[-1]=='A'):\n",
        "    p.append(x)\n",
        "ans=[]\n",
        "for j in p:\n",
        "  f=1\n",
        "  while(f):\n",
        "   for i in range(0,len(ins)):\n",
        "    if(j[-1]=='Z'):\n",
        "      # print(f-1)\n",
        "      ans.append(f-1)\n",
        "      f=0\n",
        "      break\n",
        "    j=d[j][ins[i]]\n",
        "    f+=1\n",
        "import math\n",
        "print(math.lcm(*ans))"
      ],
      "metadata": {
        "id": "FEvvKBmu6Sq2",
        "outputId": "e01630d9-178b-460b-9ea8-e159e7140071",
        "colab": {
          "base_uri": "https://localhost:8080/"
        }
      },
      "execution_count": null,
      "outputs": [
        {
          "output_type": "stream",
          "name": "stdout",
          "text": [
            "11188774513823\n"
          ]
        }
      ]
    },
    {
      "cell_type": "markdown",
      "source": [
        "##DAY7"
      ],
      "metadata": {
        "id": "cdrOuUiamHbW"
      }
    },
    {
      "cell_type": "code",
      "source": [
        "raw_input=load(2023,7)\n"
      ],
      "metadata": {
        "id": "x3AGDTE6mK6M"
      },
      "execution_count": null,
      "outputs": []
    },
    {
      "cell_type": "markdown",
      "source": [
        "###Part1"
      ],
      "metadata": {
        "id": "jii1GQ3wmWO7"
      }
    },
    {
      "cell_type": "code",
      "source": [
        "def func(a):\n",
        "  if(len(set(list(a)))==1):\n",
        "    return 0\n",
        "  t=list(a)\n",
        "  t=sorted(t,key=lambda x:t.count(x),reverse=True)\n",
        "  if(t.count(t[0])==4):\n",
        "    return 1\n",
        "  if(t.count(t[0])==3 and t.count(t[-1])==2):\n",
        "    return 2\n",
        "  if(t.count(t[0])==3 and t.count(t[-1])==1):\n",
        "    return 3\n",
        "  if(t.count(t[0])==2 and t.count(t[2])==2):\n",
        "    return 4\n",
        "  if(t.count(t[0])==2 and len(set(a))==4):\n",
        "    return 5\n",
        "  return 6"
      ],
      "metadata": {
        "id": "fsu9PPmRsX8r"
      },
      "execution_count": null,
      "outputs": []
    },
    {
      "cell_type": "code",
      "source": [
        "#'K43AT 328'\n",
        "input = raw_input.split('\\n')\n",
        "# input='''32T3K 765\n",
        "# T55J5 684\n",
        "# KK677 28\n",
        "# KTJJT 220\n",
        "# QQQJA 483'''.split('\\n')\n",
        "grp=[[] for i in range(0,7)]\n",
        "for i in range(0,len(input)):\n",
        "  input[i]=input[i].split(' ')\n",
        "  grp[func(input[i][0])].append(input[i])\n",
        "FACE_CARDS = {'T': 10, 'J': 11, 'Q': 12, 'K': 13, 'A': 14}\n",
        "def rep(x):\n",
        "  if(x.isnumeric()):\n",
        "    return int(x)\n",
        "  return int(FACE_CARDS[x])\n",
        "for i in range(0,len(grp)):\n",
        "  for j in range(0,len(grp[i])):\n",
        "    grp[i][j][0]=list(map(rep,list(grp[i][j][0])))\n",
        "  grp[i].sort(key=lambda x:x[0])\n",
        "grp=grp[::-1]\n",
        "summ=0\n",
        "v=1\n",
        "for i in range(0,len(grp)):\n",
        "  for j in range(0,len(grp[i])):\n",
        "    summ+=int(grp[i][j][1])*v\n",
        "    v+=1\n",
        "summ"
      ],
      "metadata": {
        "colab": {
          "base_uri": "https://localhost:8080/"
        },
        "id": "f7lf7kN_mbLC",
        "outputId": "566eb1ac-69a6-4f5d-9c66-6badf510467e"
      },
      "execution_count": null,
      "outputs": [
        {
          "output_type": "execute_result",
          "data": {
            "text/plain": [
              "253313241"
            ]
          },
          "metadata": {},
          "execution_count": 101
        }
      ]
    },
    {
      "cell_type": "markdown",
      "source": [
        "###Part2"
      ],
      "metadata": {
        "id": "l2sR52A9YGNO"
      }
    },
    {
      "cell_type": "code",
      "source": [
        "def func2(a):\n",
        "  if(len(set(list(a)))==1):\n",
        "    return 0\n",
        "  t=list(map(rep,list(a)))\n",
        "  c=t.count(1)\n",
        "  while 1 in t:\n",
        "    t.remove(1)\n",
        "  t.sort()\n",
        "  t=sorted(t,key=lambda x:t.count(x),reverse=True)\n",
        "  for i in range(0,c):\n",
        "    t.append(t[0])\n",
        "  t=sorted(t,key=lambda x:t.count(x),reverse=True)\n",
        "  if(len(set(t))==1):\n",
        "    return 0\n",
        "  if(t.count(t[0])==4):\n",
        "    return 1\n",
        "  if(t.count(t[0])==3 and t.count(t[-1])==2):\n",
        "    return 2\n",
        "  if(t.count(t[0])==3 and t.count(t[-1])==1):\n",
        "    return 3\n",
        "  if(t.count(t[0])==2 and t.count(t[2])==2):\n",
        "    return 4\n",
        "  if(t.count(t[0])==2 and len(set(t))==4):\n",
        "    return 5\n",
        "  return 6"
      ],
      "metadata": {
        "id": "tQtK8B9b9Zss"
      },
      "execution_count": null,
      "outputs": []
    },
    {
      "cell_type": "code",
      "source": [
        "#'K43AT 328'\n",
        "FACE_CARDS = {'T': 10, 'J': 1, 'Q': 12, 'K': 13, 'A': 14}\n",
        "def rep(x):\n",
        "  if(x.isnumeric()):\n",
        "    return int(x)\n",
        "  return int(FACE_CARDS[x])\n",
        "input = raw_input.split('\\n')\n",
        "# input='''32T3K 765\n",
        "# T55J5 684\n",
        "# KK677 28\n",
        "# KTJJT 220\n",
        "# QQQJA 483'''.split('\\n')\n",
        "grp=[[] for i in range(0,7)]\n",
        "for i in range(0,len(input)):\n",
        "  input[i]=input[i].split(' ')\n",
        "  grp[func2(input[i][0])].append(input[i])\n",
        "for i in range(0,len(grp)):\n",
        "  for j in range(0,len(grp[i])):\n",
        "    grp[i][j][0]=list(map(rep,list(grp[i][j][0])))\n",
        "  grp[i].sort(key=lambda x:x[0])\n",
        "grp=grp[::-1]\n",
        "summ=0\n",
        "v=1\n",
        "for i in range(0,len(grp)):\n",
        "  for j in range(0,len(grp[i])):\n",
        "    summ+=int(grp[i][j][1])*v\n",
        "    v+=1\n",
        "print(summ)"
      ],
      "metadata": {
        "colab": {
          "base_uri": "https://localhost:8080/"
        },
        "id": "OLU7Uo8q9mse",
        "outputId": "7f5f69cb-5c03-4fd2-caff-0955b3e52d87"
      },
      "execution_count": null,
      "outputs": [
        {
          "output_type": "stream",
          "name": "stdout",
          "text": [
            "253362743\n"
          ]
        }
      ]
    },
    {
      "cell_type": "markdown",
      "source": [],
      "metadata": {
        "id": "SjqEqdUgmLQF"
      }
    },
    {
      "cell_type": "markdown",
      "source": [
        "##DAY6"
      ],
      "metadata": {
        "id": "o20idoreXY5G"
      }
    },
    {
      "cell_type": "markdown",
      "source": [
        "###PART1"
      ],
      "metadata": {
        "id": "1vxlLKqvXhip"
      }
    },
    {
      "cell_type": "code",
      "source": [
        "def fun(time,x):\n",
        "  return (time-x)*x\n",
        "a=[54,81,70,88]\n",
        "b=[446,1292,1035,1007]\n",
        "# a=[7,  15,30]\n",
        "# b=[9,40,200]\n",
        "summ=1\n",
        "for j in range(0,len(a)):\n",
        "  count=0\n",
        "  for i in range(0,a[j]):\n",
        "    if(fun(a[j],i)>b[j]):\n",
        "      count+=1\n",
        "  if(count>0):\n",
        "     summ*=count\n",
        "summ\n"
      ],
      "metadata": {
        "colab": {
          "base_uri": "https://localhost:8080/"
        },
        "id": "PEjxMK-rXl_o",
        "outputId": "0f881d68-6c49-43e0-ac85-d4f0415132c5"
      },
      "execution_count": null,
      "outputs": [
        {
          "output_type": "execute_result",
          "data": {
            "text/plain": [
              "2065338"
            ]
          },
          "metadata": {},
          "execution_count": 39
        }
      ]
    },
    {
      "cell_type": "markdown",
      "source": [
        "###PART2"
      ],
      "metadata": {
        "id": "tFbp_5MZtbbJ"
      }
    },
    {
      "cell_type": "code",
      "source": [
        "T=54817088\n",
        "D=446129210351007\n",
        "count=0\n",
        "for i in range(0,T):\n",
        "  if(fun(T,i)>D):\n",
        "    count+=1\n",
        "count"
      ],
      "metadata": {
        "id": "nXfE1ONErvST",
        "outputId": "840b93a7-7a5b-4224-8c40-6cf139f8d2e5",
        "colab": {
          "base_uri": "https://localhost:8080/"
        }
      },
      "execution_count": null,
      "outputs": [
        {
          "output_type": "execute_result",
          "data": {
            "text/plain": [
              "34934171"
            ]
          },
          "metadata": {},
          "execution_count": 20
        }
      ]
    },
    {
      "cell_type": "markdown",
      "source": [
        "###Practice"
      ],
      "metadata": {
        "id": "PDPE-di_XEuq"
      }
    },
    {
      "cell_type": "code",
      "source": [
        "from math import floor,ceil"
      ],
      "metadata": {
        "id": "dxix8GvOSwCj"
      },
      "execution_count": null,
      "outputs": []
    },
    {
      "cell_type": "code",
      "source": [
        "# T=[7,  15,30]\n",
        "# D=[9,40,200]\n",
        "#x**2-(T-1)*x+D=0\n",
        "def funcc(T,D):\n",
        "  # print(int(T+(T**2-(4*D))**0.5))\n",
        "  return floor((T+(T**2-(4*D))**0.5)/2)-ceil((T-(T**2-(4*D))**0.5)/2)+1\n",
        "\n",
        "# fun(7,6)\n",
        "a=[7,15,30]\n",
        "b=[9,40,200]\n",
        "for i in range(0,len(a)):\n",
        "  print(funcc(a[i],b[i]))\n",
        "funcc(T,D)"
      ],
      "metadata": {
        "id": "CousV1FjQdCP",
        "outputId": "866000ba-38f2-46c3-8167-7aa770925239",
        "colab": {
          "base_uri": "https://localhost:8080/"
        }
      },
      "execution_count": null,
      "outputs": [
        {
          "output_type": "stream",
          "name": "stdout",
          "text": [
            "4\n",
            "8\n",
            "11\n"
          ]
        },
        {
          "output_type": "execute_result",
          "data": {
            "text/plain": [
              "34934171"
            ]
          },
          "metadata": {},
          "execution_count": 37
        }
      ]
    },
    {
      "cell_type": "markdown",
      "source": [
        "##DAY5"
      ],
      "metadata": {
        "id": "G8bIkPyeX2-3"
      }
    },
    {
      "cell_type": "code",
      "source": [
        "rawinput=get_advent_of_code_input(2023,5,session_id)"
      ],
      "metadata": {
        "id": "L8YwoRZ6X2Mc"
      },
      "execution_count": null,
      "outputs": []
    },
    {
      "cell_type": "code",
      "source": [
        "def smaller(a):\n",
        "  a=a.split('\\n')\n",
        "  for i in range(0,len(a)):\n",
        "    # print(a[i])\n",
        "    a[i]=list(map(int,a[i].split(\" \")))\n",
        "  return a"
      ],
      "metadata": {
        "id": "O784fBj0ag7h"
      },
      "execution_count": null,
      "outputs": []
    },
    {
      "cell_type": "markdown",
      "source": [
        "####Data Loading"
      ],
      "metadata": {
        "id": "R-Lo7BhcXF83"
      }
    },
    {
      "cell_type": "code",
      "source": [
        "seeds=\"629551616 310303897 265998072 58091853 3217788227 563748665 2286940694 820803307 1966060902 108698829 190045874 3206262 4045963015 223661537 1544688274 293696584 1038807941 31756878 1224711373 133647424\"\n",
        "\n",
        "seeds=list(map(int,seeds.split(\" \")))\n",
        "seed_to_soil=smaller('''3809825462 2725979505 339457863\n",
        "3359244708 2085610478 450580754\n",
        "652041572 2536191232 189788273\n",
        "841829845 3346349446 343599367\n",
        "1408035723 73701258 732851393\n",
        "2140887116 3689948813 88205018\n",
        "0 3778153831 371129494\n",
        "2953980724 0 73701258\n",
        "3027681982 1754047752 331562726\n",
        "2229092134 1029159162 724888590\n",
        "1185429212 806552651 222606511\n",
        "371129494 3065437368 280912078''')\n",
        "\n",
        "soil_to_fertilizer=smaller('''201390752 0 263005475\n",
        "772560454 263005475 186665885\n",
        "3597849741 3228095269 216867970\n",
        "959226339 951560560 85171934\n",
        "2882237029 3813801625 34286208\n",
        "0 586356609 16090261\n",
        "1460387186 1189054013 136970257\n",
        "2511361703 2581174071 147006778\n",
        "201110502 1477157137 280250\n",
        "3582774663 3444963239 15075078\n",
        "2073881675 2245158204 30510333\n",
        "3127914126 3163440286 64654983\n",
        "1724767985 602446870 349113690\n",
        "1597357443 1036732494 127410542\n",
        "1044398273 1164143036 24910977\n",
        "635875205 449671360 136685249\n",
        "2916523237 2728180849 211390889\n",
        "1069309250 1854080268 391077936\n",
        "167223128 1820192894 33887374\n",
        "4168481019 2454687794 126486277\n",
        "3496254979 4048626015 86519684\n",
        "2454687794 4238293387 56673909\n",
        "2104392008 1648916365 171276529\n",
        "3814717711 3460038317 353763308\n",
        "464396227 1477437387 171478978\n",
        "2658368481 2939571738 223868548\n",
        "16090261 1326024270 151132867\n",
        "3393107291 4135145699 103147688\n",
        "3192569109 3848087833 200538182''')\n",
        "\n",
        "fertilizer_to_water =smaller('''357701033 441924316 54941059\n",
        "2047098412 1574732688 106451110\n",
        "2414997091 2961420861 217583761\n",
        "3647103220 3202843177 147888878\n",
        "1781607871 3397471081 265490541\n",
        "433955285 629676938 29320532\n",
        "3280739425 2494455782 366363795\n",
        "2818710889 1426835569 147897119\n",
        "1120892574 3179004622 23838555\n",
        "1539573533 3662961622 195295312\n",
        "3794992098 1820059317 63264836\n",
        "0 84223283 357701033\n",
        "1144731129 1702496991 117562326\n",
        "2153549522 2046878176 261447569\n",
        "593734757 726830618 239035306\n",
        "987137385 83279657 943626\n",
        "2966608008 0 83279657\n",
        "1734868845 3350732055 46739026\n",
        "1438972249 2860819577 100601284\n",
        "2632580852 2308325745 186130037\n",
        "1262293455 965865924 108845646\n",
        "412642092 1681183798 21313193\n",
        "472462518 1305563330 121272239\n",
        "988081011 496865375 132811563\n",
        "463275817 2037691475 9186701\n",
        "3049887665 1074711570 230851760\n",
        "832770063 1883324153 154367322\n",
        "1371139101 658997470 67833148''')\n",
        "\n",
        "water_to_light = smaller('''4062286509 3839153068 91029970\n",
        "1610728246 3827168971 11474903\n",
        "2753947407 2725849236 1101319735\n",
        "2525484879 1829977386 228462528\n",
        "657837215 1095779595 241604827\n",
        "1895347620 1337384422 492592964\n",
        "1425623249 4009599599 185104997\n",
        "2446068318 3930183038 79416561\n",
        "1894838426 3838643874 509194\n",
        "2389619503 896001044 56448815\n",
        "3855267142 2058439914 207019367\n",
        "1187459420 657837215 238163829\n",
        "1622203149 2467395620 172372577\n",
        "2387940584 952449859 1678919\n",
        "985523081 2265459281 201936339\n",
        "4153316479 954128778 141650817\n",
        "1794575726 4194704596 100262700\n",
        "899442042 2688664470 37184766\n",
        "936626808 2639768197 48896273''')\n",
        "\n",
        "light_to_temperature =smaller('''0 2682471120 43545350\n",
        "2829609407 2423668531 227914183\n",
        "3685065657 3821208881 65673550\n",
        "1319277847 0 33132672\n",
        "818263707 3091863377 5216721\n",
        "3144636417 670795080 1340457\n",
        "1352410519 895535914 570572224\n",
        "2709351136 1662268878 120258271\n",
        "115643652 2726016470 93054822\n",
        "455333494 1538206440 124062438\n",
        "3839611769 4030334543 30664857\n",
        "3750739207 4258515305 36451991\n",
        "2070721515 33132672 155555065\n",
        "3132740473 2067641423 5192544\n",
        "4147162986 3685065657 58311172\n",
        "4278703737 3743376829 16263559\n",
        "1070098598 2174489282 249179249\n",
        "716608392 2072833967 101655315\n",
        "43545350 1466108138 72098302\n",
        "3057523590 3016646494 75216883\n",
        "2700979566 887164344 8371570\n",
        "4205474158 4060999400 73229579\n",
        "2226276580 188687737 474702986\n",
        "1971879519 1968799427 98841996\n",
        "3931845119 4134228979 124286326\n",
        "579395932 2819071292 137212460\n",
        "3137933017 672135537 6703400\n",
        "1062694241 663390723 7404357\n",
        "3787191198 3886882431 52420571\n",
        "269061216 1782527149 186272278\n",
        "1031805835 2651582714 30888406\n",
        "823480428 678838937 208325407\n",
        "3870276626 3759640388 61568493\n",
        "4056131445 3939303002 91031541\n",
        "1922982743 3097080098 48896776\n",
        "208698474 2956283752 60362742''')\n",
        "\n",
        "temperature_to_humidity=smaller('''219529182 731674447 232727899\n",
        "2748076784 2771987989 46463882\n",
        "2514344851 4061235363 233731933\n",
        "0 1369964423 219529182\n",
        "452257081 362359049 21789881\n",
        "4243457964 2720478657 51509332\n",
        "3085663754 3109574959 64704581\n",
        "1639319644 384148930 347525517\n",
        "3150368335 3626166922 251414834\n",
        "1986845161 0 139120377\n",
        "1382707786 1339581093 30383330\n",
        "1413091116 1113352565 226228528\n",
        "2794540666 2818451871 291123088\n",
        "2125965538 338187591 24171458\n",
        "474046962 139120377 157229612\n",
        "2361125570 1100881680 12470885\n",
        "631276574 296349989 41837602\n",
        "3401783169 3428035243 198131679\n",
        "3989702261 3174279540 253755703\n",
        "2224646236 964402346 136479334\n",
        "2150136996 2299087215 74509240\n",
        "3806048654 3877581756 183653607\n",
        "3599914848 2514344851 206133806\n",
        "673114176 1589493605 709593610''')\n",
        "\n",
        "humidity_to_location=smaller('''4029426902 1202474782 191291587\n",
        "2764446301 708692227 493782555\n",
        "2188304413 3350514524 33021460\n",
        "3318755823 4213528230 67155117\n",
        "2000392671 620732246 87959981\n",
        "3754724301 3075811923 274702601\n",
        "3258228856 1393766369 60526967\n",
        "2088352652 4113576469 99951761\n",
        "363515622 1849258760 614077493\n",
        "1213242541 342257124 11129119\n",
        "1733046668 353386243 267346003\n",
        "1224371660 4280683347 14283949\n",
        "2577070088 2888435710 187376213\n",
        "4220718489 2832149614 56286096\n",
        "324294413 1810037551 39221209\n",
        "3385910940 2463336253 368813361\n",
        "977593115 3383535984 235649426\n",
        "1238655609 3619185410 494391059\n",
        "4277004585 324294413 17962711\n",
        "2221325873 1454293336 355744215''')\n"
      ],
      "metadata": {
        "id": "74IvVEqMX9F0"
      },
      "execution_count": null,
      "outputs": []
    },
    {
      "cell_type": "code",
      "source": [
        "seeds\n",
        "seed_to_soil\n",
        "soil_to_fertilizer\n",
        "fertilizer_to_water\n",
        "water_to_light\n",
        "light_to_temperature\n",
        "temperature_to_humidity\n",
        "humidity_to_location\n",
        "print(\"\")"
      ],
      "metadata": {
        "id": "gBu9ChDrd2ov",
        "outputId": "f997194c-e092-413e-cd5a-faf8f928f8d5",
        "colab": {
          "base_uri": "https://localhost:8080/"
        }
      },
      "execution_count": null,
      "outputs": [
        {
          "output_type": "stream",
          "name": "stdout",
          "text": [
            "\n"
          ]
        }
      ]
    },
    {
      "cell_type": "code",
      "source": [
        "seeds='79 14 55 13'\n",
        "seeds=list(map(int,seeds.split(\" \")))\n",
        "seed_to_soil=smaller('''50 98 2\n",
        "52 50 48''')\n",
        "\n",
        "soil_to_fertilizer=smaller('''0 15 37\n",
        "37 52 2\n",
        "39 0 15''')\n",
        "\n",
        "fertilizer_to_water=smaller('''49 53 8\n",
        "0 11 42\n",
        "42 0 7\n",
        "57 7 4''')\n",
        "\n",
        "water_to_light=smaller('''88 18 7\n",
        "18 25 70''')\n",
        "\n",
        "light_to_temperature=smaller('''45 77 23\n",
        "81 45 19\n",
        "68 64 13''')\n",
        "\n",
        "temperature_to_humidity=smaller('''0 69 1\n",
        "1 0 69''')\n",
        "\n",
        "humidity_to_location=smaller('''60 56 37\n",
        "56 93 4''')"
      ],
      "metadata": {
        "id": "g0gS8hzjil8V"
      },
      "execution_count": null,
      "outputs": []
    },
    {
      "cell_type": "code",
      "source": [
        "print(len(seeds))"
      ],
      "metadata": {
        "id": "_VYqZUCWvJhO",
        "outputId": "814330f5-c54c-460f-fbef-9ce6b73dd46f",
        "colab": {
          "base_uri": "https://localhost:8080/"
        }
      },
      "execution_count": null,
      "outputs": [
        {
          "output_type": "stream",
          "name": "stdout",
          "text": [
            "20\n"
          ]
        }
      ]
    },
    {
      "cell_type": "code",
      "source": [
        "a=403695602\n",
        "for i in range(0, len(seeds),2):\n",
        "  a=min(a,findd([seeds[i]+j for j in range(0,seeds[i+1])]))\n",
        "  print(a)\n"
      ],
      "metadata": {
        "id": "_BbKSpmgvnY1",
        "outputId": "97322043-6736-465a-b4dd-18c1e51e6cea",
        "colab": {
          "base_uri": "https://localhost:8080/"
        }
      },
      "execution_count": null,
      "outputs": [
        {
          "output_type": "stream",
          "name": "stdout",
          "text": [
            "46\n",
            "46\n"
          ]
        }
      ]
    },
    {
      "cell_type": "code",
      "source": [
        "def findd(inputt):\n",
        "  x=[]\n",
        "  # seed=[]\n",
        "  # soil=[]\n",
        "  # fertilizer=[]\n",
        "  # water=[]\n",
        "  # light=[]\n",
        "  # temperature=[]\n",
        "  # humidity=[]\n",
        "  for j in(inputt):\n",
        "    i=j\n",
        "    # seed.append(i)\n",
        "    for a in range(len(seed_to_soil)):\n",
        "      if(i>=seed_to_soil[a][1] and i<(seed_to_soil[a][2]+seed_to_soil[a][1])):\n",
        "        i=i+seed_to_soil[a][0]-seed_to_soil[a][1]\n",
        "        break\n",
        "    # soil.append(i)\n",
        "    for b in range(len(soil_to_fertilizer)):\n",
        "      if(i>=soil_to_fertilizer[b][1] and i<(soil_to_fertilizer[b][2]+soil_to_fertilizer[b][1])):\n",
        "        i=soil_to_fertilizer[b][0]-soil_to_fertilizer[b][1]+i\n",
        "        break\n",
        "    # fertilizer.append(i)\n",
        "    for c in range(len(fertilizer_to_water)):\n",
        "      if(i>=fertilizer_to_water[c][1] and i<(fertilizer_to_water[c][2]+fertilizer_to_water[c][1])):\n",
        "        # print(i,end=\" \")\n",
        "        # print(fertilizer_to_water[c] ,end=\" \")\n",
        "        i=fertilizer_to_water[c][0]-fertilizer_to_water[c][1]+i\n",
        "        # print(i)\n",
        "        break\n",
        "    # water.append(i)\n",
        "    for d in range(len(water_to_light)):\n",
        "      if(i>=water_to_light[d][1] and i<(water_to_light[d][2]+water_to_light[d][1])):\n",
        "        # print(i,end=\" \")\n",
        "        # print(water_to_light[d] ,end=\" \")\n",
        "        i=water_to_light[d][0]-water_to_light[d][1]+i\n",
        "        break\n",
        "\n",
        "    # light.append(i)\n",
        "    for e in range(len(light_to_temperature)):\n",
        "        if(i>=light_to_temperature[e][1] and i<(light_to_temperature[e][2]+light_to_temperature[e][1])):\n",
        "          i=light_to_temperature[e][0]-light_to_temperature[e][1]+i\n",
        "          break\n",
        "    # temperature.append(i)\n",
        "    for f in range(len(temperature_to_humidity)):\n",
        "      if(i>=temperature_to_humidity[f][1] and i<(temperature_to_humidity[f][2]+temperature_to_humidity[f][1])):\n",
        "        i=temperature_to_humidity[f][0]-temperature_to_humidity[f][1]+i\n",
        "        break\n",
        "    # humidity.append(i)\n",
        "    for g in range(len(humidity_to_location)):\n",
        "      if(i>=humidity_to_location[g][1] and i<(humidity_to_location[g][2]+humidity_to_location[g][1])):\n",
        "        i=humidity_to_location[g][0]-humidity_to_location[g][1]+i\n",
        "        break\n",
        "    x.append(i)\n",
        "  return(min(x))\n",
        "  # print(seed)\n",
        "  # print(soil)\n",
        "  # print(fertilizer)\n",
        "  # print(water)\n",
        "  # print(light)\n",
        "  # print(temperature)\n",
        "  # print(humidity)\n",
        "  # print(x)\n",
        "\n",
        "\n"
      ],
      "metadata": {
        "id": "mDcNkGmWZ6mn"
      },
      "execution_count": null,
      "outputs": []
    },
    {
      "cell_type": "code",
      "source": [
        "findd(seeds)"
      ],
      "metadata": {
        "id": "TNtqc621wqWi",
        "outputId": "ba2d2f56-80e4-47b2-d8ae-09e6945a66c2",
        "colab": {
          "base_uri": "https://localhost:8080/"
        }
      },
      "execution_count": null,
      "outputs": [
        {
          "output_type": "execute_result",
          "data": {
            "text/plain": [
              "403695602"
            ]
          },
          "metadata": {},
          "execution_count": 64
        }
      ]
    },
    {
      "cell_type": "markdown",
      "source": [
        "##DAY4"
      ],
      "metadata": {
        "id": "ooerN1xJNxZI"
      }
    },
    {
      "cell_type": "code",
      "source": [
        "rawinput=get_advent_of_code_input(2023,4,session_id)"
      ],
      "metadata": {
        "id": "PShPvEfENuX-"
      },
      "execution_count": null,
      "outputs": []
    },
    {
      "cell_type": "markdown",
      "source": [
        "###PART1"
      ],
      "metadata": {
        "id": "DVsAKsBtVkWr"
      }
    },
    {
      "cell_type": "code",
      "source": [
        "input= rawinput.split('\\n')\n",
        "input=\"\"\"Card 1: 41 48 83 86 17 | 83 86  6 31 17  9 48 53\n",
        "Card 2: 13 32 20 16 61 | 61 30 68 82 17 32 24 19\n",
        "Card 3:  1 21 53 59 44 | 69 82 63 72 16 21 14  1\n",
        "Card 4: 41 92 73 84 69 | 59 84 76 51 58  5 54 83\n",
        "Card 5: 87 83 26 28 32 | 88 30 70 12 93 22 82 36\n",
        "Card 6: 31 18 13 56 72 | 74 77 10 23 35 67 36 11\"\"\".split('\\n')\n",
        "summ=0\n",
        "for i in range(0,len(input)):\n",
        "  input[i]=input[i].split(':')\n",
        "  input[i]=input[i][1].split('|')\n",
        "  input[i][1] = set(i for i in input[i][1].split(\" \") if i)\n",
        "  input[i][0] = set(i for i in input[i][0].split(\" \") if i)\n",
        "  a = len(input[i][0].intersection(input[i][1]))\n",
        "  if(a>0):\n",
        "    summ+=2**(a-1)\n",
        "summ"
      ],
      "metadata": {
        "id": "2Z0_xTy1NuKL",
        "outputId": "918d20a8-5bb1-458a-8b83-09649bb81c09",
        "colab": {
          "base_uri": "https://localhost:8080/"
        }
      },
      "execution_count": null,
      "outputs": [
        {
          "output_type": "execute_result",
          "data": {
            "text/plain": [
              "13"
            ]
          },
          "metadata": {},
          "execution_count": 33
        }
      ]
    },
    {
      "cell_type": "markdown",
      "source": [
        "###PART2"
      ],
      "metadata": {
        "id": "pisTraDIVn6c"
      }
    },
    {
      "cell_type": "code",
      "source": [
        "input= rawinput.split('\\n')\n",
        "# input=\"\"\"Card 1: 41 48 83 86 17 | 83 86  6 31 17  9 48 53\n",
        "# Card 2: 13 32 20 16 61 | 61 30 68 82 17 32 24 19\n",
        "# Card 3:  1 21 53 59 44 | 69 82 63 72 16 21 14  1\n",
        "# Card 4: 41 92 73 84 69 | 59 84 76 51 58  5 54 83\n",
        "# Card 5: 87 83 26 28 32 | 88 30 70 12 93 22 82 36\n",
        "# Card 6: 31 18 13 56 72 | 74 77 10 23 35 67 36 11\"\"\".split('\\n')\n",
        "ans=[1 for i in range(0,len(input))]\n",
        "summ=0\n",
        "for i in range(0,len(input)):\n",
        "  input[i]=input[i].split(':')\n",
        "  input[i]=input[i][1].split('|')\n",
        "  input[i][1] = set(i for i in input[i][1].split(\" \") if i)\n",
        "  input[i][0] = set(i for i in input[i][0].split(\" \") if i)\n",
        "  a = len(input[i][0].intersection(input[i][1]))\n",
        "  for j in range(1, a+1):\n",
        "    if(i+j<len(input)):\n",
        "      ans[i+j]+=ans[i]\n",
        "sum(ans)\n",
        "  # a = len(input[i][0].intersection(input[i][1]))\n"
      ],
      "metadata": {
        "id": "vk1WcPxVTF0_",
        "outputId": "d67b7b8a-8e53-4c12-ad0a-166dc34e45a5",
        "colab": {
          "base_uri": "https://localhost:8080/"
        }
      },
      "execution_count": null,
      "outputs": [
        {
          "output_type": "execute_result",
          "data": {
            "text/plain": [
              "6284877"
            ]
          },
          "metadata": {},
          "execution_count": 34
        }
      ]
    },
    {
      "cell_type": "markdown",
      "source": [
        "##DAY2"
      ],
      "metadata": {
        "id": "KNKPv0_csw2S"
      }
    },
    {
      "cell_type": "code",
      "source": [
        "rawinput=get_advent_of_code_input(2023,2,session_id)"
      ],
      "metadata": {
        "id": "dIcs47Oqsz8L"
      },
      "execution_count": null,
      "outputs": []
    },
    {
      "cell_type": "markdown",
      "source": [
        "###Part1"
      ],
      "metadata": {
        "id": "mc21R-SBszFg"
      }
    },
    {
      "cell_type": "code",
      "source": [
        "#Game 1: 1 blue, 2 green, 3 red; 7 red, 8 green; 1 green, 2 red, 1 blue; 2 green, 3 red, 1 blue; 8 green, 1 blue\n",
        "input = rawinput.split(\"\\n\")\n",
        "# input = \"\"\"Game 1: 3 blue, 4 red; 1 red, 2 green, 6 blue; 2 green\n",
        "# Game 2: 1 blue, 2 green; 3 green, 4 blue, 1 red; 1 green, 1 blue\n",
        "# Game 3: 8 green, 6 blue, 20 red; 5 blue, 4 red, 13 green; 5 green, 1 red\n",
        "# Game 4: 1 green, 3 red, 6 blue; 3 green, 6 red; 3 green, 15 blue, 14 red\n",
        "# Game 5: 6 red, 1 blue, 3 green; 2 blue, 1 red, 2 green\"\"\".split(\"\\n\")\n",
        "a=[]\n",
        "counts=[]\n",
        "ans=5050\n",
        "for i in range(0,len(input)):\n",
        "  a.append(list(input[i][input[i].find(':')+1:].split(';')))\n",
        "for i in range(0,len(a)):\n",
        "  d={'red':0, 'blue':0, 'green':0} #dicteonary\n",
        "  maxx={'red':12, 'blue':14, 'green':13}\n",
        "  f=1\n",
        "  for j in range(0,len(a[i])):\n",
        "    if(f==0):\n",
        "      break\n",
        "    a[i][j]=a[i][j].split(',')\n",
        "    for k in range(0,len(a[i][j])):\n",
        "        count,color= a[i][j][k].split(\" \")[1:]\n",
        "        # print(count+\"_\"+color)\n",
        "        count=int(count)\n",
        "        if(count<=maxx[color]):\n",
        "          d[color]=max([d[color],count])\n",
        "        else:\n",
        "          ans-=(i+1)\n",
        "          # print(i+1)\n",
        "          f=0\n",
        "          break\n",
        "  # print(\"\")\n",
        "print(ans)"
      ],
      "metadata": {
        "id": "ctsbXvhNswHx",
        "outputId": "792d97e6-5771-489b-f289-d2afba843651",
        "colab": {
          "base_uri": "https://localhost:8080/"
        }
      },
      "execution_count": null,
      "outputs": [
        {
          "output_type": "stream",
          "name": "stdout",
          "text": [
            "2505\n"
          ]
        }
      ]
    },
    {
      "cell_type": "markdown",
      "source": [
        "###Part2"
      ],
      "metadata": {
        "id": "beAng6ELs2Ws"
      }
    },
    {
      "cell_type": "code",
      "source": [
        "#Game 1: 1 blue, 2 green, 3 red; 7 red, 8 green; 1 green, 2 red, 1 blue; 2 green, 3 red, 1 blue; 8 green, 1 blue\n",
        "input = rawinput.split(\"\\n\")\n",
        "# input = \"\"\"Game 1: 3 blue, 4 red; 1 red, 2 green, 6 blue; 2 green\n",
        "# Game 2: 1 blue, 2 green; 3 green, 4 blue, 1 red; 1 green, 1 blue\n",
        "# Game 3: 8 green, 6 blue, 20 red; 5 blue, 4 red, 13 green; 5 green, 1 red\n",
        "# Game 4: 1 green, 3 red, 6 blue; 3 green, 6 red; 3 green, 15 blue, 14 red\n",
        "# Game 5: 6 red, 1 blue, 3 green; 2 blue, 1 red, 2 green\"\"\".split(\"\\n\")\n",
        "a=[]\n",
        "counts=[]\n",
        "ans=5050\n",
        "summ=0\n",
        "for i in range(0,len(input)):\n",
        "  a.append(list(input[i][input[i].find(':')+1:].split(';')))\n",
        "for i in range(0,len(a)):\n",
        "  d={'red':0, 'blue':0, 'green':0} #dicteonary\n",
        "  maxx={'red':12, 'blue':14, 'green':13}\n",
        "  f=1\n",
        "  for j in range(0,len(a[i])):\n",
        "    a[i][j]=a[i][j].split(',')\n",
        "    for k in range(0,len(a[i][j])):\n",
        "        count,color= a[i][j][k].split(\" \")[1:]\n",
        "        # print(count+\"_\"+color)\n",
        "        count=int(count)\n",
        "        d[color]=max([d[color],count])\n",
        "  summ+=d['red']*d['blue']*d['green']\n",
        "print(summ)"
      ],
      "metadata": {
        "id": "Q1KTPU8Ms5Z8",
        "outputId": "20c21482-6741-4bac-fc6b-6457ccee2e7d",
        "colab": {
          "base_uri": "https://localhost:8080/"
        }
      },
      "execution_count": null,
      "outputs": [
        {
          "output_type": "stream",
          "name": "stdout",
          "text": [
            "70265\n"
          ]
        }
      ]
    },
    {
      "cell_type": "markdown",
      "source": [
        "##Day1"
      ],
      "metadata": {
        "id": "J83BrGcnyQ7r"
      }
    },
    {
      "cell_type": "code",
      "source": [
        "rawinput=get_advent_of_code_input(2023,1,session_id)\n",
        "Input=rawinput.split('\\n')"
      ],
      "metadata": {
        "id": "khdJM5WeyuAP"
      },
      "execution_count": null,
      "outputs": []
    },
    {
      "cell_type": "code",
      "source": [
        "def findFirstInt(a):\n",
        "  str = list(a)\n",
        "  for c in a:\n",
        "    if(c.isdigit()):\n",
        "      return c\n",
        "def sumEndInts(a):\n",
        "  return findFirstInt(a)+findFirstInt(a[::-1])"
      ],
      "metadata": {
        "id": "tFSoX63Syyod"
      },
      "execution_count": null,
      "outputs": []
    },
    {
      "cell_type": "markdown",
      "source": [
        "###Part1"
      ],
      "metadata": {
        "id": "bmwjN_GsyTZG"
      }
    },
    {
      "cell_type": "code",
      "source": [
        "summ=0\n",
        "for i in range(len(Input)):\n",
        "  summ+=int(sumEndInts(Input[i]))\n",
        "summ"
      ],
      "metadata": {
        "colab": {
          "base_uri": "https://localhost:8080/"
        },
        "id": "CAdY_jAxyVID",
        "outputId": "75f86a5f-c19d-4822-9338-34a325ceaf5e"
      },
      "execution_count": null,
      "outputs": [
        {
          "output_type": "execute_result",
          "data": {
            "text/plain": [
              "55834"
            ]
          },
          "metadata": {},
          "execution_count": 29
        }
      ]
    },
    {
      "cell_type": "markdown",
      "source": [
        "###Part2"
      ],
      "metadata": {
        "id": "fJGW5mw6yVoW"
      }
    },
    {
      "cell_type": "code",
      "source": [
        "def replace_number_spellings(a):\n",
        "  number_spell = {'one':'one1one','two' : 'two2two','three' : 'three3three' ,'four' : 'four4four' ,'five':'five5five' ,'six':'six6six' , 'seven':'seven7seven' ,'eight':'eight8eight' ,'nine':'nine9nine' }\n",
        "  for word, number in number_spell.items():\n",
        "    a = a.replace(word,number)\n",
        "  return a"
      ],
      "metadata": {
        "id": "8FB_UAbO9F-V"
      },
      "execution_count": null,
      "outputs": []
    },
    {
      "cell_type": "code",
      "source": [
        "test = \"\"\"two1nine\n",
        "eightwothree\n",
        "abcone2threexyz\n",
        "xtwone3four\n",
        "4nineeightseven2\n",
        "zoneight234\n",
        "7pqrstsixteen\"\"\".split(\"\\n\")\n",
        "summ=0\n",
        "for i in range(len(test)):\n",
        "  summ+=int(sumEndInts(replace_number_spellings(test[i])))\n",
        "summ\n"
      ],
      "metadata": {
        "colab": {
          "base_uri": "https://localhost:8080/"
        },
        "id": "qm7RjvIw_Cm0",
        "outputId": "f515bcc7-4f5b-45cf-cb11-64fcfb15fc69"
      },
      "execution_count": null,
      "outputs": [
        {
          "output_type": "execute_result",
          "data": {
            "text/plain": [
              "281"
            ]
          },
          "metadata": {},
          "execution_count": 31
        }
      ]
    },
    {
      "cell_type": "code",
      "source": [
        "summ=0\n",
        "for i in range(len(Input)):\n",
        "  summ+=int(sumEndInts(replace_number_spellings(Input[i])))\n",
        "summ"
      ],
      "metadata": {
        "colab": {
          "base_uri": "https://localhost:8080/"
        },
        "id": "nWciDXkfyaD0",
        "outputId": "ce9d1d59-3928-4fc3-aed5-51ccd07e5756"
      },
      "execution_count": null,
      "outputs": [
        {
          "output_type": "execute_result",
          "data": {
            "text/plain": [
              "53221"
            ]
          },
          "metadata": {},
          "execution_count": 32
        }
      ]
    },
    {
      "cell_type": "markdown",
      "source": [
        "#2022"
      ],
      "metadata": {
        "id": "W8qyVsuW4Sgu"
      }
    },
    {
      "cell_type": "markdown",
      "source": [
        "##DAY5"
      ],
      "metadata": {
        "id": "fwOcN4JYahU5"
      }
    },
    {
      "cell_type": "code",
      "source": [
        "rawinput=get_advent_of_code_input2(2022,5,session_id)"
      ],
      "metadata": {
        "id": "hgItB0l4aghU"
      },
      "execution_count": null,
      "outputs": []
    },
    {
      "cell_type": "code",
      "source": [
        "def restack(fs,ts, c):\n",
        "  for i in range(c):\n",
        "    ts.append(fs.pop())\n",
        "  return fs,ts\n",
        "def restack2(fs,ts, c):\n",
        "  t=len(fs)-c\n",
        "  for i in range(c):\n",
        "    ts.append(fs.pop(t))\n",
        "  return fs,ts"
      ],
      "metadata": {
        "id": "RbDPHOnqseNH"
      },
      "execution_count": null,
      "outputs": []
    },
    {
      "cell_type": "code",
      "source": [
        "# rawinput='''    [D]\n",
        "# [N] [C]\n",
        "# [Z] [M] [P]\n",
        "#  1   2   3\n",
        "\n",
        "# move 1 from 2 to 1\n",
        "# move 3 from 1 to 3\n",
        "# move 2 from 2 to 1\n",
        "# move 1 from 1 to 2'''\n",
        "input=rawinput.split(\"\\n\\n\")[0]\n",
        "input2=rawinput.split(\"\\n\\n\")[1]\n",
        "input=input.split(\"\\n\")\n",
        "input2=input2.split('\\n')\n",
        "input2[0]\n",
        "for i in range(len(input2)):\n",
        "  input2[i]=input2[i].split(' ')\n",
        "  input2[i]=input2[i][1:6:2]\n",
        "input2[0:2]"
      ],
      "metadata": {
        "colab": {
          "base_uri": "https://localhost:8080/"
        },
        "id": "48QhESR7bYOW",
        "outputId": "d080d09e-af37-4410-8d59-928d7a3aa21e"
      },
      "execution_count": null,
      "outputs": [
        {
          "output_type": "execute_result",
          "data": {
            "text/plain": [
              "[['6', '5', '7'], ['2', '9', '1']]"
            ]
          },
          "metadata": {},
          "execution_count": 65
        }
      ]
    },
    {
      "cell_type": "markdown",
      "source": [
        "###Part1"
      ],
      "metadata": {
        "id": "OPcre0Px1BpO"
      }
    },
    {
      "cell_type": "code",
      "source": [
        "stack=[[] for i in range(0,len(input[-1].split(\"  \")))]\n",
        "for i in range(0,len(input)):\n",
        "  for j in range(1,len(input[i]),4):\n",
        "    if(input[i][j]>='A' and input[i][j]<='Z'):\n",
        "      stack[int((j-1)/4)].append(input[i][j])\n",
        "# print(\"top--->Bottom\")\n",
        "for i in range(len(stack)):\n",
        "  stack[i]=stack[i][::-1]\n",
        "#print(\"Bottom--->top\")\n",
        "# move 6 from 5 to 7\n",
        "for i in range(len(input2[:-1])):\n",
        "  # print(input2[i])\n",
        "  stack[int(input2[i][1])-1],stack[int(input2[i][2])-1]=restack(stack[int(input2[i][1])-1],stack[int(input2[i][2])-1],int(input2[i][0]))\n",
        "for i in stack:\n",
        "  print(i[-1],end=\"\")"
      ],
      "metadata": {
        "colab": {
          "base_uri": "https://localhost:8080/"
        },
        "id": "9Pvi8GWoarDo",
        "outputId": "4239e2fa-7d78-467f-d0a6-c86fab21697a"
      },
      "execution_count": null,
      "outputs": [
        {
          "output_type": "stream",
          "name": "stdout",
          "text": [
            "ZSQVCCJLL"
          ]
        }
      ]
    },
    {
      "cell_type": "markdown",
      "source": [
        "###Part2"
      ],
      "metadata": {
        "id": "utHS2bdk09hX"
      }
    },
    {
      "cell_type": "code",
      "source": [
        "stack=[[] for i in range(0,len(input[-1].split(\"  \")))]\n",
        "for i in range(0,len(input)):\n",
        "  for j in range(1,len(input[i]),4):\n",
        "    if(input[i][j]>='A' and input[i][j]<='Z'):\n",
        "      stack[int((j-1)/4)].append(input[i][j])\n",
        "# print(\"top--->Bottom\")\n",
        "for i in range(len(stack)):\n",
        "  stack[i]=stack[i][::-1]\n",
        "#print(\"Bottom--->top\")\n",
        "# move 6 from 5 to 7\n",
        "for i in range(len(input2[:-1])):\n",
        "  # print(input2[i])\n",
        "  # print(stack)\n",
        "  stack[int(input2[i][1])-1],stack[int(input2[i][2])-1]=restack2(stack[int(input2[i][1])-1],stack[int(input2[i][2])-1],int(input2[i][0]))\n",
        "# print(stack)\n",
        "for i in stack:\n",
        "  print(i[-1],end=\"\")"
      ],
      "metadata": {
        "id": "duQ3QmwJykKe",
        "outputId": "f1e42126-b783-4a0d-b039-6a62dca9c328",
        "colab": {
          "base_uri": "https://localhost:8080/"
        }
      },
      "execution_count": null,
      "outputs": [
        {
          "output_type": "stream",
          "name": "stdout",
          "text": [
            "QZFJRWHGS"
          ]
        }
      ]
    },
    {
      "cell_type": "markdown",
      "source": [
        "##DAY1"
      ],
      "metadata": {
        "id": "AG49Hbm04WBH"
      }
    },
    {
      "cell_type": "code",
      "source": [
        "rawinput=get_advent_of_code_input(2022,1,session_id)"
      ],
      "metadata": {
        "id": "T6uZE5bz4VoD"
      },
      "execution_count": null,
      "outputs": []
    },
    {
      "cell_type": "markdown",
      "source": [
        "###Part1"
      ],
      "metadata": {
        "id": "kcCHrrOV4YjM"
      }
    },
    {
      "cell_type": "code",
      "source": [
        "input = rawinput.split('\\n')\n",
        "elves = []\n",
        "temp = 0\n",
        "for i in range(0,len(input)):\n",
        "  if(input[i]==''):\n",
        "    elves.append(temp)\n",
        "    temp=0\n",
        "  else:\n",
        "    temp+=int(input[i])\n",
        "elves.append(temp)\n",
        "elves.sort()\n",
        "elves[-1]"
      ],
      "metadata": {
        "id": "bWfj7HFs4UmS",
        "colab": {
          "base_uri": "https://localhost:8080/"
        },
        "outputId": "0861f5f6-73cb-43be-8119-33458aa4172a"
      },
      "execution_count": null,
      "outputs": [
        {
          "output_type": "execute_result",
          "data": {
            "text/plain": [
              "68442"
            ]
          },
          "metadata": {},
          "execution_count": 17
        }
      ]
    },
    {
      "cell_type": "markdown",
      "source": [
        "###Part2"
      ],
      "metadata": {
        "id": "PmYdb7Tm4cbi"
      }
    },
    {
      "cell_type": "code",
      "source": [
        "sum(elves[-3:])"
      ],
      "metadata": {
        "id": "Lfx7ppIF4jTk",
        "colab": {
          "base_uri": "https://localhost:8080/"
        },
        "outputId": "2c382461-d412-4068-edb6-b6e6f4f41b0c"
      },
      "execution_count": null,
      "outputs": [
        {
          "output_type": "execute_result",
          "data": {
            "text/plain": [
              "204837"
            ]
          },
          "metadata": {},
          "execution_count": 18
        }
      ]
    },
    {
      "cell_type": "markdown",
      "source": [
        "##DAY2"
      ],
      "metadata": {
        "id": "iVLbONGkUP6Q"
      }
    },
    {
      "cell_type": "code",
      "source": [
        "rawinput=get_advent_of_code_input(2022,2,session_id)"
      ],
      "metadata": {
        "id": "ZQXbUty0UTO-"
      },
      "execution_count": null,
      "outputs": []
    },
    {
      "cell_type": "markdown",
      "source": [
        "###Part1"
      ],
      "metadata": {
        "id": "xGsZmxJCUTmN"
      }
    },
    {
      "cell_type": "code",
      "source": [
        "def points(a):\n",
        "  opp={'A':1,'B':2,'C':3}\n",
        "  player={'X':1,'Y':2,'Z':3}\n",
        "  if(a in ['A X','B Y','C Z']):\n",
        "    return 3 + opp[a[0]]\n",
        "  elif(a in ['A Y', 'B Z', 'C X']):\n",
        "    return 6 + player[a[-1]]\n",
        "  return player[a[-1]]"
      ],
      "metadata": {
        "id": "K1o86vgGVDyK"
      },
      "execution_count": null,
      "outputs": []
    },
    {
      "cell_type": "code",
      "source": [
        "#1 for Rock, 2 for Paper, and 3 for Scissors\n",
        "#A for Rock, B for Paper, and C for Scissors\n",
        "#X for Rock, Y for Paper, and Z for Scissors.\n",
        "#0 if you lost, 3 if the round was a draw, and 6 if you won\n",
        "input=rawinput.split('\\n')\n",
        "# input = \"\"\"A Y\n",
        "# B X\n",
        "# C Z\"\"\".split('\\n')\n",
        "sum(list(map(points,input)))"
      ],
      "metadata": {
        "colab": {
          "base_uri": "https://localhost:8080/"
        },
        "id": "a17rT4oiUW5q",
        "outputId": "0608c99e-080d-4620-db35-ad1db5096416"
      },
      "execution_count": null,
      "outputs": [
        {
          "output_type": "execute_result",
          "data": {
            "text/plain": [
              "12458"
            ]
          },
          "metadata": {},
          "execution_count": 4
        }
      ]
    },
    {
      "cell_type": "markdown",
      "source": [
        "###Part2"
      ],
      "metadata": {
        "id": "bDjGdy7wX5KZ"
      }
    },
    {
      "cell_type": "code",
      "source": [
        "# X means you need to lose, Y means you need to end the round in a draw, and Z means you need to win.\n",
        "def stat(a):\n",
        "  val={'A':1,'B':2,'C':3}\n",
        "  win={'A':2,'B':3,'C':1}\n",
        "  loss={'A':3,'B':1,'C':2}\n",
        "  # print(a[0])\n",
        "  if(a[-1] == 'X'):\n",
        "    return loss[a[0]]\n",
        "  if(a[-1]=='Y'):\n",
        "    return 3+val[a[0]]\n",
        "  return 6+win[a[0]]"
      ],
      "metadata": {
        "id": "_8VP6DVsX8BN"
      },
      "execution_count": null,
      "outputs": []
    },
    {
      "cell_type": "code",
      "source": [
        "input=rawinput.split('\\n')\n",
        "# input = \"\"\"A Y\n",
        "# B X\n",
        "# C Z\"\"\".split('\\n')\n",
        "sum(list(map(stat,input)))"
      ],
      "metadata": {
        "colab": {
          "base_uri": "https://localhost:8080/"
        },
        "id": "eWJHf-sRY5Bn",
        "outputId": "c42acfdb-af63-4183-e135-88e026515bdf"
      },
      "execution_count": null,
      "outputs": [
        {
          "output_type": "execute_result",
          "data": {
            "text/plain": [
              "12683"
            ]
          },
          "metadata": {},
          "execution_count": 23
        }
      ]
    },
    {
      "cell_type": "markdown",
      "source": [
        "##DAY3"
      ],
      "metadata": {
        "id": "IglNFB4g4U-k"
      }
    },
    {
      "cell_type": "code",
      "source": [
        "rawinput=get_advent_of_code_input(2022,3,session_id)"
      ],
      "metadata": {
        "id": "7jqMbcCdOBA6"
      },
      "execution_count": null,
      "outputs": []
    },
    {
      "cell_type": "markdown",
      "source": [
        "###Part1"
      ],
      "metadata": {
        "id": "G4L7igtm4ln8"
      }
    },
    {
      "cell_type": "code",
      "source": [
        "def half(a):\n",
        "  a=set(a[:int(len(a)/2)]).intersection(set(a[int(len(a)/2):])).pop()\n",
        "  if('A'<=a and 'Z'>=a):\n",
        "    return ord(a)-38\n",
        "  else:\n",
        "    return ord(a)-96"
      ],
      "metadata": {
        "id": "AVlwitI-Oue-"
      },
      "execution_count": null,
      "outputs": []
    },
    {
      "cell_type": "code",
      "source": [
        "input = rawinput.split('\\n')\n",
        "# input=\"\"\"vJrwpWtwJgWrhcsFMMfFFhFp\n",
        "# jqHRNqRjqzjGDLGLrsFMfFZSrLrFZsSL\n",
        "# PmmdzqPrVvPwwTWBwg\n",
        "# wMqvLMZHhHMvwLHjbvcjnnSBnvTQFn\n",
        "# ttgJtRGJQctTZtZT\n",
        "# CrZsJsPPZsGzwwsLwLmpwMDw\"\"\".split('\\n')\n",
        "input = list(map(half,input))\n",
        "sum(input)"
      ],
      "metadata": {
        "id": "g4Iwd_bk4ntV",
        "colab": {
          "base_uri": "https://localhost:8080/"
        },
        "outputId": "75a7a95a-f604-4291-8899-1746ac0616b7"
      },
      "execution_count": null,
      "outputs": [
        {
          "output_type": "execute_result",
          "data": {
            "text/plain": [
              "7872"
            ]
          },
          "metadata": {},
          "execution_count": 24
        }
      ]
    },
    {
      "cell_type": "markdown",
      "source": [
        "###Part2"
      ],
      "metadata": {
        "id": "XHcbK7nw4oBn"
      }
    },
    {
      "cell_type": "code",
      "source": [
        "def badge(a,b,c):\n",
        "  a=set(a).intersection(b).intersection(c).pop()\n",
        "  # print(a)\n",
        "  if('A'<=a and 'Z'>=a):\n",
        "    return ord(a)-38\n",
        "  else:\n",
        "    return ord(a)-96"
      ],
      "metadata": {
        "id": "RPxfAxl24qw7"
      },
      "execution_count": null,
      "outputs": []
    },
    {
      "cell_type": "code",
      "source": [
        "input=rawinput.split('\\n')\n",
        "summ=0\n",
        "for i in range(0,len(input),3):\n",
        "  summ+=badge(input[i],input[i+1],input[i+2])\n",
        "summ"
      ],
      "metadata": {
        "colab": {
          "base_uri": "https://localhost:8080/"
        },
        "id": "a24-X0oCPLvX",
        "outputId": "871049ac-1939-4431-b70c-860dc28019e5"
      },
      "execution_count": null,
      "outputs": [
        {
          "output_type": "execute_result",
          "data": {
            "text/plain": [
              "2497"
            ]
          },
          "metadata": {},
          "execution_count": 26
        }
      ]
    },
    {
      "cell_type": "markdown",
      "source": [
        "##DAY4"
      ],
      "metadata": {
        "id": "Q48pUWsJfg0I"
      }
    },
    {
      "cell_type": "code",
      "source": [
        "rawinput=get_advent_of_code_input(2022,4,session_id)"
      ],
      "metadata": {
        "id": "Gc_Ro34mfjbQ"
      },
      "execution_count": null,
      "outputs": []
    },
    {
      "cell_type": "markdown",
      "source": [
        "###Part1"
      ],
      "metadata": {
        "id": "Ze272TRPf3w9"
      }
    },
    {
      "cell_type": "code",
      "source": [
        "input=rawinput.split('\\n')\n",
        "# input=\"\"\"2-4,6-8\n",
        "# 2-3,4-5\n",
        "# 5-7,7-9\n",
        "# 2-8,3-7\n",
        "# 6-6,4-6\n",
        "# 2-6,4-8\"\"\".split('\\n')\n",
        "ans=0\n",
        "for i in range(0,len(input)):\n",
        "  input[i]=input[i].split(',')\n",
        "  # print(input[i][0])\n",
        "  input[i][0]=list(range(int(input[i][0].split('-')[0]),int(input[i][0].split('-')[1])+1))\n",
        "  input[i][1]=list(range(int(input[i][1].split('-')[0]),int(input[i][1].split('-')[1])+1))\n",
        "  if(set(input[i][0]).issubset(input[i][1]) or set(input[i][1]).issubset(input[i][0])):\n",
        "    ans+=1\n",
        "ans"
      ],
      "metadata": {
        "id": "ZCfMGpe9f3br",
        "outputId": "95f3ff58-7d89-48a9-86c3-975d7a768a10",
        "colab": {
          "base_uri": "https://localhost:8080/"
        }
      },
      "execution_count": null,
      "outputs": [
        {
          "output_type": "execute_result",
          "data": {
            "text/plain": [
              "513"
            ]
          },
          "metadata": {},
          "execution_count": 41
        }
      ]
    },
    {
      "cell_type": "markdown",
      "source": [
        "###Part2"
      ],
      "metadata": {
        "id": "DGQhFRYjkCJW"
      }
    },
    {
      "cell_type": "code",
      "source": [
        "input=rawinput.split('\\n')\n",
        "# input=\"\"\"2-4,6-8\n",
        "# 2-3,4-5\n",
        "# 5-7,7-9\n",
        "# 2-8,3-7\n",
        "# 6-6,4-6\n",
        "# 2-6,4-8\"\"\".split('\\n')\n",
        "ans=0\n",
        "for i in range(0,len(input)):\n",
        "  input[i]=input[i].split(',')\n",
        "  # print(input[i][0])\n",
        "  input[i][0]=list(range(int(input[i][0].split('-')[0]),int(input[i][0].split('-')[1])+1))\n",
        "  input[i][1]=list(range(int(input[i][1].split('-')[0]),int(input[i][1].split('-')[1])+1))\n",
        "  if(len(set(input[i][0]).intersection(input[i][1]))):\n",
        "    ans+=1\n",
        "ans"
      ],
      "metadata": {
        "id": "7PMg5H5HkD2R",
        "outputId": "8b073998-41c6-41df-e8fb-6254851ee474",
        "colab": {
          "base_uri": "https://localhost:8080/"
        }
      },
      "execution_count": null,
      "outputs": [
        {
          "output_type": "execute_result",
          "data": {
            "text/plain": [
              "878"
            ]
          },
          "metadata": {},
          "execution_count": 44
        }
      ]
    },
    {
      "cell_type": "markdown",
      "source": [
        "#2021\n",
        "\n",
        "\n",
        "---\n",
        "\n"
      ],
      "metadata": {
        "id": "KVjhRyrE0dLT"
      }
    },
    {
      "cell_type": "markdown",
      "source": [
        "##DAY1"
      ],
      "metadata": {
        "id": "EGrtVCAZ5WHw"
      }
    },
    {
      "cell_type": "code",
      "source": [
        "rawinput=get_advent_of_code_input(2021,1,session_id)"
      ],
      "metadata": {
        "id": "c8JMvEiS0mPd"
      },
      "execution_count": null,
      "outputs": []
    },
    {
      "cell_type": "code",
      "source": [
        "Input=rawinput.split('\\n')\n",
        "Input=list(map(int,Input))"
      ],
      "metadata": {
        "id": "PYCJ-hFF0vKB"
      },
      "execution_count": null,
      "outputs": []
    },
    {
      "cell_type": "code",
      "source": [
        "def greater(a,b):\n",
        "  if(a>b):\n",
        "    return 1\n",
        "  return 0"
      ],
      "metadata": {
        "id": "NP7osU071Snz"
      },
      "execution_count": null,
      "outputs": []
    },
    {
      "cell_type": "markdown",
      "source": [
        "###Part1"
      ],
      "metadata": {
        "id": "c0fCQ54_5ipe"
      }
    },
    {
      "cell_type": "code",
      "source": [
        "#Question1\n",
        "prev=Input[0]\n",
        "count=0\n",
        "for i in range(1,len(Input)):\n",
        "  next=Input[i]\n",
        "  count+=greater(next,prev)\n",
        "  prev=next\n",
        "print(count)"
      ],
      "metadata": {
        "id": "ry3SFT4t47Zc",
        "outputId": "d4943835-5c37-4734-fb80-7e5e1ffa74c4",
        "colab": {
          "base_uri": "https://localhost:8080/"
        }
      },
      "execution_count": null,
      "outputs": [
        {
          "output_type": "stream",
          "name": "stdout",
          "text": [
            "1215\n"
          ]
        }
      ]
    },
    {
      "cell_type": "markdown",
      "source": [
        "###Part2"
      ],
      "metadata": {
        "id": "WLkn8-Rk5nJM"
      }
    },
    {
      "cell_type": "code",
      "source": [
        "#Question2\n",
        "prev=sum(Input[0:3])\n",
        "count=0\n",
        "for i in range(1,len(Input)-2):\n",
        "  next=sum(Input[i:i+3])\n",
        "  count+=greater(next,prev)\n",
        "  prev=next\n",
        "print(count)"
      ],
      "metadata": {
        "colab": {
          "base_uri": "https://localhost:8080/"
        },
        "id": "gUkSnflT1g_v",
        "outputId": "98dcc4af-9441-4362-9fd5-1da12eaabf44"
      },
      "execution_count": null,
      "outputs": [
        {
          "output_type": "stream",
          "name": "stdout",
          "text": [
            "1150\n"
          ]
        }
      ]
    },
    {
      "cell_type": "markdown",
      "source": [
        "##DAY2"
      ],
      "metadata": {
        "id": "54zHRixDjYKL"
      }
    },
    {
      "cell_type": "code",
      "source": [
        "rawinput=get_advent_of_code_input(2021,2,session_id)"
      ],
      "metadata": {
        "id": "VN39si5kkLQ0"
      },
      "execution_count": null,
      "outputs": []
    },
    {
      "cell_type": "markdown",
      "source": [
        "###Part1"
      ],
      "metadata": {
        "id": "VNpTY2MYvrSv"
      }
    },
    {
      "cell_type": "code",
      "source": [
        "Input=rawinput.split('\\n')\n",
        "forward = 0\n",
        "depth = 0\n",
        "for i in range(0,len(Input)):\n",
        "  temp=Input[i].split(\" \")\n",
        "  match(temp[0]):\n",
        "    case 'forward':\n",
        "      forward+=int(temp[1])\n",
        "    case 'down':\n",
        "      depth+=int(temp[1])\n",
        "    case 'up':\n",
        "      depth-=int(temp[1])\n",
        "print(depth)\n",
        "print(forward)\n",
        "print(depth*forward)"
      ],
      "metadata": {
        "colab": {
          "base_uri": "https://localhost:8080/"
        },
        "id": "BrbL8lwnjbXa",
        "outputId": "62c4fcea-43d1-4864-bd61-36ac3d6ac459"
      },
      "execution_count": null,
      "outputs": [
        {
          "output_type": "stream",
          "name": "stdout",
          "text": [
            "913\n",
            "1988\n",
            "1815044\n"
          ]
        }
      ]
    },
    {
      "cell_type": "markdown",
      "source": [
        "###Part2"
      ],
      "metadata": {
        "id": "StWs36wUvoqI"
      }
    },
    {
      "cell_type": "code",
      "source": [
        "Input=rawinput.split('\\n')\n",
        "# Input=\"\"\"forward 5\n",
        "# down 5\n",
        "# forward 8\n",
        "# up 3\n",
        "# down 8\n",
        "# forward 2\"\"\".split('\\n')\n",
        "forward = 0\n",
        "depth = 0\n",
        "aim=0\n",
        "for i in range(0,len(Input)):\n",
        "  temp=Input[i].split(\" \")\n",
        "  match(temp[0]):\n",
        "    case 'forward':\n",
        "      forward+=int(temp[1])\n",
        "      depth+=int(temp[1])*aim\n",
        "    case 'down':\n",
        "      #depth+=int(temp[1])\n",
        "      aim+=int(temp[1])\n",
        "    case 'up':\n",
        "      #depth-=int(temp[1])\n",
        "      aim-=int(temp[1])\n",
        "print(depth)\n",
        "print(forward)\n",
        "print(depth*forward)"
      ],
      "metadata": {
        "colab": {
          "base_uri": "https://localhost:8080/"
        },
        "id": "7lR9X2JetFHn",
        "outputId": "fcc0dbf9-c72b-4bd5-d232-f2748ba7f9b0"
      },
      "execution_count": null,
      "outputs": [
        {
          "output_type": "stream",
          "name": "stdout",
          "text": [
            "874891\n",
            "1988\n",
            "1739283308\n"
          ]
        }
      ]
    },
    {
      "cell_type": "markdown",
      "source": [
        "##DAY3"
      ],
      "metadata": {
        "id": "B8WWefceymz-"
      }
    },
    {
      "cell_type": "code",
      "source": [
        "rawinput=get_advent_of_code_input(2021,3,session_id)"
      ],
      "metadata": {
        "id": "KvrqD18Wyrai"
      },
      "execution_count": null,
      "outputs": []
    },
    {
      "cell_type": "markdown",
      "source": [
        "###Part1"
      ],
      "metadata": {
        "id": "ZuuQVgqPyqFv"
      }
    },
    {
      "cell_type": "code",
      "source": [
        "input=rawinput.split(\"\\n\")\n",
        "gamma = \"\"\n",
        "epsilon = \"\"\n",
        "for i in range(0,12):\n",
        "  gamma+=max(['0','1'],key=[x[i] for x in input].count)\n",
        "  epsilon+=min(['0','1'],key=[x[i] for x in input].count)\n",
        "print(gamma+\" \"+epsilon)\n",
        "int(gamma,2)*int(epsilon,2)"
      ],
      "metadata": {
        "colab": {
          "base_uri": "https://localhost:8080/"
        },
        "id": "QvbgYsmtyzGh",
        "outputId": "7d7f33f3-6b03-46d6-a939-6a887e264aa0"
      },
      "execution_count": null,
      "outputs": [
        {
          "output_type": "stream",
          "name": "stdout",
          "text": [
            "001110101111 110001010000\n"
          ]
        },
        {
          "output_type": "execute_result",
          "data": {
            "text/plain": [
              "2972336"
            ]
          },
          "metadata": {},
          "execution_count": 14
        }
      ]
    },
    {
      "cell_type": "markdown",
      "source": [
        "###Part2"
      ],
      "metadata": {
        "id": "ezr6UoymGQIR"
      }
    },
    {
      "cell_type": "code",
      "source": [
        "input=rawinput.split(\"\\n\")\n",
        "# input=\"\"\"00100\n",
        "# 11110\n",
        "# 10110\n",
        "# 10111\n",
        "# 10101\n",
        "# 01111\n",
        "# 00111\n",
        "# 11100\n",
        "# 10000\n",
        "# 11001\n",
        "# 00010\n",
        "# 01010\"\"\".split(\"\\n\")\n",
        "gamma = \"\"\n",
        "epsilon = \"\"\n",
        "for i in range(0,12):\n",
        "  if(len([x for x in input if x.startswith(gamma)])==1):\n",
        "    gamma = [x for x in input if x.startswith(gamma)][0]\n",
        "    break\n",
        "  gamma+=max(['1','0'],key=[x[i] for x in input if x.startswith(gamma)].count)\n",
        "for i in range(0,12):\n",
        "  if(len([x for x in input if x.startswith(epsilon)])==1):\n",
        "    epsilon = [x for x in input if x.startswith(epsilon)][0]\n",
        "    break\n",
        "  epsilon+=min(['0','1'],key=[x[i] for x in input if x.startswith(epsilon)].count)\n",
        "\n",
        "print(gamma+\" \"+epsilon)\n",
        "int(gamma,2)*int(epsilon,2)"
      ],
      "metadata": {
        "id": "QLyRvd-KAXTe",
        "outputId": "8417e020-92fd-4e7b-9595-4ce5493d523c",
        "colab": {
          "base_uri": "https://localhost:8080/"
        }
      },
      "execution_count": null,
      "outputs": [
        {
          "output_type": "stream",
          "name": "stdout",
          "text": [
            "001110100011 111000100010\n"
          ]
        },
        {
          "output_type": "execute_result",
          "data": {
            "text/plain": [
              "3368358"
            ]
          },
          "metadata": {},
          "execution_count": 15
        }
      ]
    },
    {
      "cell_type": "markdown",
      "source": [
        "#2020"
      ],
      "metadata": {
        "id": "3tonFarU_N9v"
      }
    },
    {
      "cell_type": "markdown",
      "source": [
        "##DAY1"
      ],
      "metadata": {
        "id": "tTX_v0Gj_RVV"
      }
    },
    {
      "cell_type": "code",
      "source": [
        "rawinput=get_advent_of_code_input(2020,1,session_id)"
      ],
      "metadata": {
        "id": "Rd3RHqS9_UGw"
      },
      "execution_count": null,
      "outputs": []
    },
    {
      "cell_type": "markdown",
      "source": [
        "###Part1"
      ],
      "metadata": {
        "id": "1kRaON_f_UkQ"
      }
    },
    {
      "cell_type": "code",
      "source": [
        "input=list(map(int,rawinput.split('\\n')))\n",
        "for i in range(0,len(input)):\n",
        "  for j in range(i,len(input)):\n",
        "    if(input[i]+input[j]==2020):\n",
        "      print(\"Part1\")\n",
        "      print(input[i]*input[j])\n",
        "    for k in range(j,len(input)):\n",
        "     if(input[i]+input[j]+input[k]==2020):\n",
        "      print(\"Part2\")\n",
        "      print(input[i]*input[j]*input[k])\n"
      ],
      "metadata": {
        "colab": {
          "base_uri": "https://localhost:8080/"
        },
        "id": "_41qwZdB_bkO",
        "outputId": "bfcb6e67-a014-457f-cd58-9c4497bc5e59"
      },
      "execution_count": null,
      "outputs": [
        {
          "output_type": "stream",
          "name": "stdout",
          "text": [
            "Part2\n",
            "73616634\n",
            "Part1\n",
            "121396\n"
          ]
        }
      ]
    },
    {
      "cell_type": "markdown",
      "source": [],
      "metadata": {
        "id": "Qi9b04mJA9Eo"
      }
    },
    {
      "cell_type": "markdown",
      "source": [
        "#2015\n"
      ],
      "metadata": {
        "id": "Lqh1Es3RR3-n"
      }
    },
    {
      "cell_type": "markdown",
      "source": [
        "##Day 1"
      ],
      "metadata": {
        "id": "g58-qbv7R8ze"
      }
    },
    {
      "cell_type": "code",
      "source": [
        "rawinput=get_advent_of_code_input(2015,1,session_id)"
      ],
      "metadata": {
        "id": "OT686VeNSCEV"
      },
      "execution_count": null,
      "outputs": []
    },
    {
      "cell_type": "markdown",
      "source": [
        "###Part 1"
      ],
      "metadata": {
        "id": "MyS031yvR-sF"
      }
    },
    {
      "cell_type": "code",
      "source": [
        "print(rawinput.count('(')-rawinput.count(')'))\n",
        "print(rawinput.count('('))\n",
        "-rawinput.count(')')"
      ],
      "metadata": {
        "colab": {
          "base_uri": "https://localhost:8080/"
        },
        "id": "3Xo2_nF7R7QO",
        "outputId": "be24bbd0-98d1-49b4-98f2-62bfa1de87dd"
      },
      "execution_count": null,
      "outputs": [
        {
          "output_type": "stream",
          "name": "stdout",
          "text": [
            "74\n",
            "3537\n"
          ]
        },
        {
          "output_type": "execute_result",
          "data": {
            "text/plain": [
              "-3463"
            ]
          },
          "metadata": {},
          "execution_count": 3
        }
      ]
    },
    {
      "cell_type": "markdown",
      "source": [
        "###Part 2"
      ],
      "metadata": {
        "id": "FiiiMVePUeIG"
      }
    },
    {
      "cell_type": "code",
      "source": [
        "floor = 0\n",
        "for i in range(0,len(rawinput)):\n",
        "  if(floor==-1):\n",
        "    print(i)\n",
        "    break\n",
        "  if(rawinput[i]=='('):\n",
        "    floor+=1\n",
        "  else:\n",
        "    floor-=1"
      ],
      "metadata": {
        "colab": {
          "base_uri": "https://localhost:8080/"
        },
        "id": "jC_HP61RTaxg",
        "outputId": "ab829b38-2e0d-4884-bb3e-a63fc7d51b83"
      },
      "execution_count": null,
      "outputs": [
        {
          "output_type": "stream",
          "name": "stdout",
          "text": [
            "1795\n"
          ]
        }
      ]
    }
  ]
}