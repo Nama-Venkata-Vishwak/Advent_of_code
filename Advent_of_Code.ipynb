{
  "nbformat": 4,
  "nbformat_minor": 0,
  "metadata": {
    "colab": {
      "provenance": [],
      "authorship_tag": "ABX9TyOSv36/ntGZQ49LyMG9N7fs",
      "include_colab_link": true
    },
    "kernelspec": {
      "name": "python3",
      "display_name": "Python 3"
    },
    "language_info": {
      "name": "python"
    }
  },
  "cells": [
    {
      "cell_type": "markdown",
      "metadata": {
        "id": "view-in-github",
        "colab_type": "text"
      },
      "source": [
        "<a href=\"https://colab.research.google.com/github/Nama-Venkata-Vishwak/Advent_of_code/blob/main/Advent_of_Code.ipynb\" target=\"_parent\"><img src=\"https://colab.research.google.com/assets/colab-badge.svg\" alt=\"Open In Colab\"/></a>"
      ]
    },
    {
      "cell_type": "markdown",
      "source": [
        "#Getting Data From Advent_of_Code\n",
        "\n",
        "\n",
        "---\n",
        "\n",
        "\n",
        "\n"
      ],
      "metadata": {
        "id": "f23wr_U6z7gO"
      }
    },
    {
      "cell_type": "code",
      "source": [
        "import requests\n",
        "def get_advent_of_code_input(year,day,session_id):\n",
        "  url=f\"https://adventofcode.com/{year}/day/{day}/input\"\n",
        "  headers = {\"Cookie\":f\"session={session_id}\"}\n",
        "  response = requests.get(url,headers=headers)\n",
        "  if(response.status_code==200):\n",
        "    return response.text.strip()\n",
        "  else:\n",
        "    print(f\"Failed to fetch data. {response.status_code}\")\n",
        "    return None"
      ],
      "metadata": {
        "id": "SBaXJZa_xyox"
      },
      "execution_count": 2,
      "outputs": []
    },
    {
      "cell_type": "code",
      "source": [
        "session_id=\"53616c7465645f5fc9b2c2a3ac7e51d79a7e93848102302526ecc97df1c276cfad384c010b1b5182a1ba9aad622c0bdd89b059ec8e205d139a09adee778edfdc\""
      ],
      "metadata": {
        "id": "Cce4oqvExym-"
      },
      "execution_count": 3,
      "outputs": []
    },
    {
      "cell_type": "markdown",
      "source": [
        "#2015\n"
      ],
      "metadata": {
        "id": "Lqh1Es3RR3-n"
      }
    },
    {
      "cell_type": "markdown",
      "source": [
        "##Day 1"
      ],
      "metadata": {
        "id": "g58-qbv7R8ze"
      }
    },
    {
      "cell_type": "code",
      "source": [
        "rawinput=get_advent_of_code_input(2015,1,session_id)"
      ],
      "metadata": {
        "id": "OT686VeNSCEV"
      },
      "execution_count": 22,
      "outputs": []
    },
    {
      "cell_type": "markdown",
      "source": [
        "###Part 1"
      ],
      "metadata": {
        "id": "MyS031yvR-sF"
      }
    },
    {
      "cell_type": "code",
      "source": [
        "print(rawinput.count('(')-rawinput.count(')'))\n",
        "print(rawinput.count('('))\n",
        "-rawinput.count(')')"
      ],
      "metadata": {
        "colab": {
          "base_uri": "https://localhost:8080/"
        },
        "id": "3Xo2_nF7R7QO",
        "outputId": "d7283ed6-fb3d-48f3-dd7a-c9b0b9ad4cc4"
      },
      "execution_count": 25,
      "outputs": [
        {
          "output_type": "stream",
          "name": "stdout",
          "text": [
            "74\n",
            "3537\n"
          ]
        },
        {
          "output_type": "execute_result",
          "data": {
            "text/plain": [
              "-3463"
            ]
          },
          "metadata": {},
          "execution_count": 25
        }
      ]
    },
    {
      "cell_type": "markdown",
      "source": [
        "###Part 2"
      ],
      "metadata": {
        "id": "FiiiMVePUeIG"
      }
    },
    {
      "cell_type": "code",
      "source": [
        "floor = 0\n",
        "for i in range(0,len(rawinput)):\n",
        "  if(floor==-1):\n",
        "    print(i)\n",
        "    break\n",
        "  if(rawinput[i]=='('):\n",
        "    floor+=1\n",
        "  else:\n",
        "    floor-=1"
      ],
      "metadata": {
        "colab": {
          "base_uri": "https://localhost:8080/"
        },
        "id": "jC_HP61RTaxg",
        "outputId": "fbf1e16f-31a6-46d9-cbdd-6381997433d7"
      },
      "execution_count": 31,
      "outputs": [
        {
          "output_type": "stream",
          "name": "stdout",
          "text": [
            "1795\n"
          ]
        }
      ]
    },
    {
      "cell_type": "markdown",
      "source": [
        "#2021\n",
        "\n",
        "\n",
        "---\n",
        "\n"
      ],
      "metadata": {
        "id": "KVjhRyrE0dLT"
      }
    },
    {
      "cell_type": "markdown",
      "source": [
        "##DAY1"
      ],
      "metadata": {
        "id": "EGrtVCAZ5WHw"
      }
    },
    {
      "cell_type": "code",
      "source": [
        "rawinput=get_advent_of_code_input(2021,1,session_id)"
      ],
      "metadata": {
        "id": "c8JMvEiS0mPd"
      },
      "execution_count": null,
      "outputs": []
    },
    {
      "cell_type": "code",
      "source": [
        "Input=rawinput.split('\\n')\n",
        "Input=list(map(int,Input))"
      ],
      "metadata": {
        "id": "PYCJ-hFF0vKB"
      },
      "execution_count": null,
      "outputs": []
    },
    {
      "cell_type": "code",
      "source": [
        "def greater(a,b):\n",
        "  if(a>b):\n",
        "    return 1\n",
        "  return 0"
      ],
      "metadata": {
        "id": "NP7osU071Snz"
      },
      "execution_count": null,
      "outputs": []
    },
    {
      "cell_type": "markdown",
      "source": [
        "###Part1"
      ],
      "metadata": {
        "id": "c0fCQ54_5ipe"
      }
    },
    {
      "cell_type": "code",
      "source": [
        "#Question1\n",
        "prev=Input[0]\n",
        "count=0\n",
        "for i in range(1,len(Input)):\n",
        "  next=Input[i]\n",
        "  count+=greater(next,prev)\n",
        "  prev=next\n",
        "print(count)"
      ],
      "metadata": {
        "id": "ry3SFT4t47Zc",
        "outputId": "0ce10e95-3d44-4558-a8bd-f07870950df1",
        "colab": {
          "base_uri": "https://localhost:8080/"
        }
      },
      "execution_count": null,
      "outputs": [
        {
          "output_type": "stream",
          "name": "stdout",
          "text": [
            "1215\n"
          ]
        }
      ]
    },
    {
      "cell_type": "markdown",
      "source": [
        "###Part2"
      ],
      "metadata": {
        "id": "WLkn8-Rk5nJM"
      }
    },
    {
      "cell_type": "code",
      "source": [
        "#Question2\n",
        "prev=sum(Input[0:3])\n",
        "count=0\n",
        "for i in range(1,len(Input)-2):\n",
        "  next=sum(Input[i:i+3])\n",
        "  count+=greater(next,prev)\n",
        "  prev=next\n",
        "print(count)"
      ],
      "metadata": {
        "colab": {
          "base_uri": "https://localhost:8080/"
        },
        "id": "gUkSnflT1g_v",
        "outputId": "f82092fc-787b-4957-9969-a15c9ada0222"
      },
      "execution_count": null,
      "outputs": [
        {
          "output_type": "stream",
          "name": "stdout",
          "text": [
            "1150\n"
          ]
        }
      ]
    },
    {
      "cell_type": "markdown",
      "source": [
        "##DAY2"
      ],
      "metadata": {
        "id": "54zHRixDjYKL"
      }
    },
    {
      "cell_type": "code",
      "source": [
        "rawinput=get_advent_of_code_input(2021,2,session_id)"
      ],
      "metadata": {
        "id": "VN39si5kkLQ0"
      },
      "execution_count": 33,
      "outputs": []
    },
    {
      "cell_type": "markdown",
      "source": [
        "###Part1"
      ],
      "metadata": {
        "id": "VNpTY2MYvrSv"
      }
    },
    {
      "cell_type": "code",
      "source": [
        "Input=rawinput.split('\\n')\n",
        "forward = 0\n",
        "depth = 0\n",
        "for i in range(0,len(Input)):\n",
        "  temp=Input[i].split(\" \")\n",
        "  match(temp[0]):\n",
        "    case 'forward':\n",
        "      forward+=int(temp[1])\n",
        "    case 'down':\n",
        "      depth+=int(temp[1])\n",
        "    case 'up':\n",
        "      depth-=int(temp[1])\n",
        "print(depth)\n",
        "print(forward)\n",
        "print(depth*forward)"
      ],
      "metadata": {
        "colab": {
          "base_uri": "https://localhost:8080/"
        },
        "id": "BrbL8lwnjbXa",
        "outputId": "d7ddebe7-e9cd-410b-f843-d152d686b1e2"
      },
      "execution_count": 45,
      "outputs": [
        {
          "output_type": "stream",
          "name": "stdout",
          "text": [
            "913\n",
            "1988\n",
            "1815044\n"
          ]
        }
      ]
    },
    {
      "cell_type": "markdown",
      "source": [
        "###Part2"
      ],
      "metadata": {
        "id": "StWs36wUvoqI"
      }
    },
    {
      "cell_type": "code",
      "source": [
        "Input=rawinput.split('\\n')\n",
        "# Input=\"\"\"forward 5\n",
        "# down 5\n",
        "# forward 8\n",
        "# up 3\n",
        "# down 8\n",
        "# forward 2\"\"\".split('\\n')\n",
        "forward = 0\n",
        "depth = 0\n",
        "aim=0\n",
        "for i in range(0,len(Input)):\n",
        "  temp=Input[i].split(\" \")\n",
        "  match(temp[0]):\n",
        "    case 'forward':\n",
        "      forward+=int(temp[1])\n",
        "      depth+=int(temp[1])*aim\n",
        "    case 'down':\n",
        "      #depth+=int(temp[1])\n",
        "      aim+=int(temp[1])\n",
        "    case 'up':\n",
        "      #depth-=int(temp[1])\n",
        "      aim-=int(temp[1])\n",
        "print(depth)\n",
        "print(forward)\n",
        "print(depth*forward)"
      ],
      "metadata": {
        "colab": {
          "base_uri": "https://localhost:8080/"
        },
        "id": "7lR9X2JetFHn",
        "outputId": "f16ceb74-2a4f-47e7-d485-69bd30cd10d2"
      },
      "execution_count": 50,
      "outputs": [
        {
          "output_type": "stream",
          "name": "stdout",
          "text": [
            "874891\n",
            "1988\n",
            "1739283308\n"
          ]
        }
      ]
    },
    {
      "cell_type": "markdown",
      "source": [
        "##DAY3"
      ],
      "metadata": {
        "id": "B8WWefceymz-"
      }
    },
    {
      "cell_type": "code",
      "source": [
        "rawinput=get_advent_of_code_input(2021,3,session_id)"
      ],
      "metadata": {
        "id": "KvrqD18Wyrai"
      },
      "execution_count": 51,
      "outputs": []
    },
    {
      "cell_type": "markdown",
      "source": [
        "###Part1"
      ],
      "metadata": {
        "id": "ZuuQVgqPyqFv"
      }
    },
    {
      "cell_type": "code",
      "source": [],
      "metadata": {
        "id": "HKUk8zW21NB5"
      },
      "execution_count": null,
      "outputs": []
    },
    {
      "cell_type": "code",
      "source": [
        "input=rawinput.split(\"\\n\")\n",
        "gamma = \"\"\n",
        "epsilon = \"\"\n",
        "for i in range(0,12):\n",
        "  gamma+=max(['0','1'],key=[x[i] for x in input].count)\n",
        "  epsilon+=min(['0','1'],key=[x[i] for x in input].count)\n",
        "gamma+\" \"+epsilon\n",
        "int(gamma,2)*int(epsilon,2)"
      ],
      "metadata": {
        "id": "QvbgYsmtyzGh",
        "outputId": "38dc8b77-7dd4-4443-85fb-777fd5f63309",
        "colab": {
          "base_uri": "https://localhost:8080/"
        }
      },
      "execution_count": 58,
      "outputs": [
        {
          "output_type": "execute_result",
          "data": {
            "text/plain": [
              "2972336"
            ]
          },
          "metadata": {},
          "execution_count": 58
        }
      ]
    },
    {
      "cell_type": "markdown",
      "source": [
        "#2023\n",
        "\n"
      ],
      "metadata": {
        "id": "-TMAoXvWyNeG"
      }
    },
    {
      "cell_type": "markdown",
      "source": [
        "##Day1"
      ],
      "metadata": {
        "id": "J83BrGcnyQ7r"
      }
    },
    {
      "cell_type": "code",
      "source": [
        "rawinput=get_advent_of_code_input(2023,1,session_id)\n",
        "Input=rawinput.split('\\n')"
      ],
      "metadata": {
        "id": "khdJM5WeyuAP"
      },
      "execution_count": 5,
      "outputs": []
    },
    {
      "cell_type": "code",
      "source": [
        "def findFirstInt(a):\n",
        "  str = list(a)\n",
        "  for c in a:\n",
        "    if(c.isdigit()):\n",
        "      return c\n",
        "def sumEndInts(a):\n",
        "  return findFirstInt(a)+findFirstInt(a[::-1])"
      ],
      "metadata": {
        "id": "tFSoX63Syyod"
      },
      "execution_count": 9,
      "outputs": []
    },
    {
      "cell_type": "markdown",
      "source": [
        "###Part1"
      ],
      "metadata": {
        "id": "bmwjN_GsyTZG"
      }
    },
    {
      "cell_type": "code",
      "source": [
        "sum=0\n",
        "for i in range(len(Input)):\n",
        "  sum+=int(sumEndInts(Input[i]))\n",
        "sum"
      ],
      "metadata": {
        "colab": {
          "base_uri": "https://localhost:8080/"
        },
        "id": "CAdY_jAxyVID",
        "outputId": "42707c35-2e62-45de-a631-135746469495"
      },
      "execution_count": 11,
      "outputs": [
        {
          "output_type": "execute_result",
          "data": {
            "text/plain": [
              "55834"
            ]
          },
          "metadata": {},
          "execution_count": 11
        }
      ]
    },
    {
      "cell_type": "markdown",
      "source": [
        "###Part2"
      ],
      "metadata": {
        "id": "fJGW5mw6yVoW"
      }
    },
    {
      "cell_type": "code",
      "source": [
        "def replace_number_spellings(a):\n",
        "  number_spell = {'one':'one1one','two' : 'two2two','three' : 'three3three' ,'four' : 'four4four' ,'five':'five5five' ,'six':'six6six' , 'seven':'seven7seven' ,'eight':'eight8eight' ,'nine':'nine9nine' }\n",
        "  for word, number in number_spell.items():\n",
        "    a = a.replace(word,number)\n",
        "  return a"
      ],
      "metadata": {
        "id": "8FB_UAbO9F-V"
      },
      "execution_count": 19,
      "outputs": []
    },
    {
      "cell_type": "code",
      "source": [
        "test = \"\"\"two1nine\n",
        "eightwothree\n",
        "abcone2threexyz\n",
        "xtwone3four\n",
        "4nineeightseven2\n",
        "zoneight234\n",
        "7pqrstsixteen\"\"\".split(\"\\n\")\n",
        "sum=0\n",
        "for i in range(len(test)):\n",
        "  sum+=int(sumEndInts(replace_number_spellings(test[i])))\n",
        "sum\n"
      ],
      "metadata": {
        "colab": {
          "base_uri": "https://localhost:8080/"
        },
        "id": "qm7RjvIw_Cm0",
        "outputId": "cc07d706-0dfa-44b2-afbd-5b41e4a60763"
      },
      "execution_count": 20,
      "outputs": [
        {
          "output_type": "execute_result",
          "data": {
            "text/plain": [
              "281"
            ]
          },
          "metadata": {},
          "execution_count": 20
        }
      ]
    },
    {
      "cell_type": "code",
      "source": [
        "sum=0\n",
        "for i in range(len(Input)):\n",
        "  sum+=int(sumEndInts(replace_number_spellings(Input[i])))\n",
        "sum"
      ],
      "metadata": {
        "colab": {
          "base_uri": "https://localhost:8080/"
        },
        "id": "nWciDXkfyaD0",
        "outputId": "affb595b-1147-4763-d115-f5827147d1c6"
      },
      "execution_count": 21,
      "outputs": [
        {
          "output_type": "execute_result",
          "data": {
            "text/plain": [
              "53221"
            ]
          },
          "metadata": {},
          "execution_count": 21
        }
      ]
    }
  ]
}